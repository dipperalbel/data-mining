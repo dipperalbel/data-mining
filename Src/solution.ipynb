{
 "cells": [
  {
   "cell_type": "markdown",
   "metadata": {},
   "source": [
    "IMPORT THE MODULES WHICH WE WILL USE FOR THE SOLUTION"
   ]
  },
  {
   "cell_type": "code",
   "execution_count": 1,
   "metadata": {},
   "outputs": [],
   "source": [
    "#IMPORT THE MODULES WHICH WE WILL USE FOR THE SOLUTION"
   ]
  },
  {
   "cell_type": "code",
   "execution_count": 2,
   "metadata": {},
   "outputs": [],
   "source": [
    "import pandas as pd\n",
    "from mlxtend.preprocessing import TransactionEncoder\n",
    "from mlxtend.frequent_patterns import apriori\n",
    "from mlxtend.frequent_patterns import association_rules\n",
    "import itertools\n",
    "from itertools import chain, combinations\n",
    "import numpy as np\n",
    "import re\n",
    "from nltk.stem import PorterStemmer \n",
    "from collections import Counter\n",
    "import math\n",
    "from numpy import array\n",
    "from numpy import diag\n",
    "from numpy import zeros\n",
    "from scipy.linalg import svd\n",
    "from sklearn.metrics.pairwise import cosine_similarity\n",
    "from numpy.linalg import inv\n",
    "from sklearn.feature_extraction.text import TfidfVectorizer, CountVectorizer, TfidfTransformer\n",
    "import time\n",
    "from operator import itemgetter\n",
    "from Levenshtein import distance\n",
    "from operator import itemgetter as it\n",
    "from itertools import repeat\n",
    "import os\n",
    "import glob\n",
    "import ast\n",
    "from collections import defaultdict "
   ]
  },
  {
   "cell_type": "code",
   "execution_count": 3,
   "metadata": {},
   "outputs": [],
   "source": [
    "#Delete all files in tempreResults directory\n",
    "filelist = glob.glob(os.path.join(\"./tempResults/\", \"*.csv\"))\n",
    "for f in filelist:\n",
    "    os.remove(f)"
   ]
  },
  {
   "cell_type": "markdown",
   "metadata": {},
   "source": [
    "GLOBAL VARIABLES"
   ]
  },
  {
   "cell_type": "code",
   "execution_count": 4,
   "metadata": {},
   "outputs": [],
   "source": [
    "#GLOBAL VARIABLES"
   ]
  },
  {
   "cell_type": "code",
   "execution_count": 5,
   "metadata": {},
   "outputs": [],
   "source": [
    "#percentual = 1.0"
   ]
  },
  {
   "cell_type": "code",
   "execution_count": 6,
   "metadata": {},
   "outputs": [],
   "source": [
    "#CUSTOMER PROFILINGS\n",
    "numberOfProfiles= 4"
   ]
  },
  {
   "cell_type": "code",
   "execution_count": 7,
   "metadata": {},
   "outputs": [],
   "source": [
    "recipesFile = \"real_recipe_dataset.json\""
   ]
  },
  {
   "cell_type": "code",
   "execution_count": 8,
   "metadata": {},
   "outputs": [],
   "source": [
    "syntheticDataGrocery = False"
   ]
  },
  {
   "cell_type": "code",
   "execution_count": 9,
   "metadata": {},
   "outputs": [],
   "source": [
    "WORDS = {}"
   ]
  },
  {
   "cell_type": "code",
   "execution_count": 10,
   "metadata": {},
   "outputs": [],
   "source": [
    "stopwords =[\"a\", \"about\", \"above\", \"after\", \"again\", \"against\", \"ain\", \"all\", \"am\", \"an\", \"and\", \"any\", \"are\", \"aren\", \"aren't\", \"as\", \"at\", \"be\", \"because\", \"been\", \"before\", \"being\", \"below\", \"between\", \"both\", \"but\", \"by\", \"can\", \"couldn\", \"couldn't\", \"d\", \"did\", \"didn\", \"didn't\", \"do\", \"does\", \"doesn\", \"doesn't\", \"doing\", \"don\", \"don't\", \"down\", \"during\", \"each\", \"few\", \"for\", \"from\", \"further\", \"had\", \"hadn\", \"hadn't\", \"has\", \"hasn\", \"hasn't\", \"have\", \"haven\", \"haven't\", \"having\", \"he\", \"her\", \"here\", \"hers\", \"herself\", \"him\", \"himself\", \"his\", \"how\", \"i\", \"if\", \"in\", \"into\", \"is\", \"isn\", \"isn't\", \"it\", \"it's\", \"its\", \"itself\", \"just\", \"ll\", \"m\", \"ma\", \"me\", \"mightn\", \"mightn't\", \"more\", \"most\", \"mustn\", \"mustn't\", \"my\", \"myself\", \"needn\", \"needn't\", \"no\", \"nor\", \"not\", \"now\", \"o\", \"of\", \"off\", \"on\", \"once\", \"only\", \"or\", \"other\", \"our\", \"ours\", \"ourselves\", \"out\", \"over\", \"own\", \"re\", \"s\", \"same\", \"shan\", \"shan't\", \"she\", \"she's\", \"should\", \"should've\", \"shouldn\", \"shouldn't\", \"so\", \"some\", \"such\", \"t\", \"than\", \"that\", \"that'll\", \"the\", \"their\", \"theirs\", \"them\", \"themselves\", \"then\", \"there\", \"these\", \"they\", \"this\", \"those\", \"through\", \"to\", \"too\", \"under\", \"until\", \"up\", \"ve\", \"very\", \"was\", \"wasn\", \"wasn't\", \"we\", \"were\", \"weren\", \"weren't\", \"what\", \"when\", \"where\", \"which\", \"while\", \"who\", \"whom\", \"why\", \"will\", \"with\", \"won\", \"won't\", \"wouldn\", \"wouldn't\", \"y\", \"you\", \"you'd\", \"you'll\", \"you're\", \"you've\", \"your\", \"yours\", \"yourself\", \"yourselves\", \"could\", \"he'd\", \"he'll\", \"he's\", \"here's\", \"how's\", \"i'd\", \"i'll\", \"i'm\", \"i've\", \"let's\", \"ought\", \"she'd\", \"she'll\", \"that's\", \"there's\", \"they'd\", \"they'll\", \"they're\", \"they've\", \"we'd\", \"we'll\", \"we're\", \"we've\", \"what's\", \"when's\", \"where's\", \"who's\", \"why's\", \"would\"]"
   ]
  },
  {
   "cell_type": "code",
   "execution_count": 11,
   "metadata": {},
   "outputs": [],
   "source": [
    "ps = PorterStemmer()"
   ]
  },
  {
   "cell_type": "markdown",
   "metadata": {},
   "source": [
    "DEFINE FUNCTIONS WHICH WILL BE USED"
   ]
  },
  {
   "cell_type": "code",
   "execution_count": 12,
   "metadata": {},
   "outputs": [],
   "source": [
    "#DEFINE FUNCTIONS WHICH WILL BE USED"
   ]
  },
  {
   "cell_type": "code",
   "execution_count": 13,
   "metadata": {},
   "outputs": [],
   "source": [
    "#Clean the string x\n",
    "def cleaningString (x):\n",
    "    result = []\n",
    "    for j in x :\n",
    "        j = j.lower()\n",
    "        j = re.sub(r\"[^a-zA-Z]+\",' ',j)\n",
    "        j = j.strip()\n",
    "        result.append(j)\n",
    "    return result"
   ]
  },
  {
   "cell_type": "code",
   "execution_count": 14,
   "metadata": {},
   "outputs": [],
   "source": [
    "#Clean the string x\n",
    "def cleaningStringImproved (x):\n",
    "    result = []\n",
    "    for j in x :\n",
    "        j = j.lower()\n",
    "        j = re.sub(r\"[^a-zA-Z]+\",' ',j)\n",
    "        j = j.strip()\n",
    "        result.append(j)\n",
    "    return \" \".join(x).strip().lower()"
   ]
  },
  {
   "cell_type": "code",
   "execution_count": 15,
   "metadata": {},
   "outputs": [],
   "source": [
    "def listToString(s):  \n",
    "    \n",
    "    # initialize an empty string \n",
    "    str1 = \" \" \n",
    "    \n",
    "    # return string   \n",
    "    return (str1.join(s).strip())"
   ]
  },
  {
   "cell_type": "code",
   "execution_count": 16,
   "metadata": {},
   "outputs": [],
   "source": [
    "#GIVEN A BASKET RETURN ALL ITEMS THAT THAT ARE RELATED TO THE GIVEN BASKET BY THE ASSOCIATION RULES\n",
    "#THE ITEMS THAT ARE ALREADY IN THE BASKET WILL NOT BE RETURNED\n",
    "def consequentsPrediction(inputs):\n",
    "    #print(\"ORIGINAL\" + str(inputs))    \n",
    "    consequent_insieme = set()\n",
    "    for left_rule in rules[\"antecedents\"].values :      \n",
    "        if left_rule.issubset(inputs):\n",
    "            froz_set = rules[rules['antecedents'] == left_rule ][\"consequents\"].values\n",
    "            test = set(itertools.chain.from_iterable(froz_set))\n",
    "            for k in test :\n",
    "                consequent_insieme.add(k)\n",
    "    for elem in inputs:\n",
    "        if elem in consequent_insieme:\n",
    "            consequent_insieme.remove(elem)\n",
    "    #print(\"PREDICTED\"+ str(consequent_insieme))\n",
    "    return consequent_insieme"
   ]
  },
  {
   "cell_type": "code",
   "execution_count": 17,
   "metadata": {},
   "outputs": [],
   "source": [
    "#Clean the string x\n",
    "def deleteStopwords (x):\n",
    "    result = []\n",
    "    for j in x :\n",
    "        temp = j.split()\n",
    "        temp2 = \"\"\n",
    "        for i in temp:\n",
    "            if i in stopwords:\n",
    "                i = \" \"\n",
    "            elif len(i) <= 2 :\n",
    "                i = \" \"\n",
    "            temp2 += i\n",
    "            temp2 += \" \"\n",
    "        temp2 = temp2.strip()\n",
    "        result.append(temp2)\n",
    "    return result"
   ]
  },
  {
   "cell_type": "code",
   "execution_count": 18,
   "metadata": {},
   "outputs": [],
   "source": [
    "def stemming(x):\n",
    "    result = []\n",
    "    for j in x:\n",
    "        temp = j.split()\n",
    "        temp2 = \"\"\n",
    "        for i in temp:\n",
    "            stem = ps.stem(i)\n",
    "            temp2 += stem\n",
    "            temp2 += \" \"\n",
    "        temp2 = temp2.strip()\n",
    "        result.append(temp2)\n",
    "    return result"
   ]
  },
  {
   "cell_type": "code",
   "execution_count": 19,
   "metadata": {},
   "outputs": [],
   "source": [
    "def words(text): return re.findall(r'\\w+', text.lower())"
   ]
  },
  {
   "cell_type": "code",
   "execution_count": 20,
   "metadata": {},
   "outputs": [],
   "source": [
    "def edits_one(word):\n",
    "    return_set = set()\n",
    "    for w in WORDS:\n",
    "        temp =  distance(word,w)\n",
    "        if (temp<=1):\n",
    "            return_set.add(w)\n",
    "            \n",
    "    return return_set"
   ]
  },
  {
   "cell_type": "code",
   "execution_count": 21,
   "metadata": {},
   "outputs": [],
   "source": [
    "def edits_two(word):\n",
    "    return_set = set()\n",
    "    for w in WORDS:\n",
    "        temp =  distance(word,w)\n",
    "        if (temp<=2):\n",
    "            return_set.add(w)\n",
    "            \n",
    "    return return_set"
   ]
  },
  {
   "cell_type": "code",
   "execution_count": 22,
   "metadata": {},
   "outputs": [],
   "source": [
    "def correction(word): \n",
    "    \"Most probable spelling correction for word.\"\n",
    "    result = candidates(word)\n",
    "    if len(result) == 0:\n",
    "        return \"\"\n",
    "    return max(candidates(word), key=P)"
   ]
  },
  {
   "cell_type": "code",
   "execution_count": 23,
   "metadata": {},
   "outputs": [],
   "source": [
    "def candidates(word): \n",
    "    \"Generate possible spelling corrections for word.\"\n",
    "    return (known([word]) or edits_one((word)) or edits_two((word)))"
   ]
  },
  {
   "cell_type": "code",
   "execution_count": 24,
   "metadata": {},
   "outputs": [],
   "source": [
    "def known(words): \n",
    "    \"The subset of `words` that appear in the dictionary of WORDS.\"\n",
    "    return set(w for w in words if w in WORDS)"
   ]
  },
  {
   "cell_type": "code",
   "execution_count": 25,
   "metadata": {},
   "outputs": [],
   "source": [
    "def correctionString(x):\n",
    "    result = []\n",
    "    for j in x:\n",
    "        temp = j.split()\n",
    "        temp2 = \"\"\n",
    "        for i in temp:\n",
    "            correct = correction(i)\n",
    "            temp2 += correct\n",
    "            temp2 += \" \"\n",
    "        temp2 = temp2.strip()\n",
    "        if(temp2 != \"\"):\n",
    "            result.append(temp2)\n",
    "    return result"
   ]
  },
  {
   "cell_type": "markdown",
   "metadata": {},
   "source": [
    "# STEP 1"
   ]
  },
  {
   "cell_type": "code",
   "execution_count": 26,
   "metadata": {},
   "outputs": [],
   "source": [
    "#STEP 1"
   ]
  },
  {
   "cell_type": "markdown",
   "metadata": {},
   "source": [
    "Creating the two dataframes"
   ]
  },
  {
   "cell_type": "code",
   "execution_count": 27,
   "metadata": {},
   "outputs": [],
   "source": [
    "#Creating the two dataframes"
   ]
  },
  {
   "cell_type": "code",
   "execution_count": 28,
   "metadata": {},
   "outputs": [],
   "source": [
    "recipes = pd.DataFrame()\n",
    "if syntheticDataGrocery!= True :\n",
    "    \n",
    "    groceries = pd.DataFrame()\n",
    "    groceries = pd.read_csv(\"real_market_basket_dataset.csv\")\n",
    "    \n",
    "    #Drop the columns \"Item(s)\" in groceries and \"id\" in recipes\n",
    "    groceries = groceries.drop(\"Item(s)\", axis = 1)\n",
    "    stripped_nan = []\n",
    "    \n",
    "    for row in range(0, groceries.count()[0]):\n",
    "        string_tmp_1 = pd.Series()\n",
    "    \n",
    "        # build column with single ingredients\n",
    "        string_tmp_1 = groceries.iloc[row, :].dropna()\n",
    "        string_tmp_2 = string_tmp_1.reset_index(drop = True)\n",
    "        string_tmp_3 = list(string_tmp_2.to_numpy())\n",
    "        stripped_nan.append(string_tmp_3)\n",
    "    \n",
    "    groceries = pd.DataFrame(pd.Series(stripped_nan).reset_index()).drop(\"index\",axis=1).set_axis([\"original basket\"], 1, inplace = False)\n",
    "    "
   ]
  },
  {
   "cell_type": "code",
   "execution_count": 29,
   "metadata": {},
   "outputs": [],
   "source": [
    "recipes = pd.read_json(recipesFile) \n",
    "recipes = recipes.drop(\"id\",axis=1)"
   ]
  },
  {
   "cell_type": "code",
   "execution_count": 30,
   "metadata": {},
   "outputs": [],
   "source": [
    "start_time = time.time()"
   ]
  },
  {
   "cell_type": "markdown",
   "metadata": {},
   "source": [
    "# STEP 2"
   ]
  },
  {
   "cell_type": "code",
   "execution_count": 31,
   "metadata": {},
   "outputs": [
    {
     "data": {
      "text/html": [
       "<div>\n",
       "<style scoped>\n",
       "    .dataframe tbody tr th:only-of-type {\n",
       "        vertical-align: middle;\n",
       "    }\n",
       "\n",
       "    .dataframe tbody tr th {\n",
       "        vertical-align: top;\n",
       "    }\n",
       "\n",
       "    .dataframe thead th {\n",
       "        text-align: right;\n",
       "    }\n",
       "</style>\n",
       "<table border=\"1\" class=\"dataframe\">\n",
       "  <thead>\n",
       "    <tr style=\"text-align: right;\">\n",
       "      <th></th>\n",
       "      <th>cuisine</th>\n",
       "      <th>ingredients</th>\n",
       "    </tr>\n",
       "  </thead>\n",
       "  <tbody>\n",
       "    <tr>\n",
       "      <th>0</th>\n",
       "      <td>greek</td>\n",
       "      <td>[romaine lettuce, black olives, grape tomatoes...</td>\n",
       "    </tr>\n",
       "    <tr>\n",
       "      <th>1</th>\n",
       "      <td>southern_us</td>\n",
       "      <td>[plain flour, ground pepper, salt, tomatoes, g...</td>\n",
       "    </tr>\n",
       "    <tr>\n",
       "      <th>2</th>\n",
       "      <td>filipino</td>\n",
       "      <td>[eggs, pepper, salt, mayonaise, cooking oil, g...</td>\n",
       "    </tr>\n",
       "    <tr>\n",
       "      <th>3</th>\n",
       "      <td>indian</td>\n",
       "      <td>[water, vegetable oil, wheat, salt]</td>\n",
       "    </tr>\n",
       "    <tr>\n",
       "      <th>4</th>\n",
       "      <td>indian</td>\n",
       "      <td>[black pepper, shallots, cornflour, cayenne pe...</td>\n",
       "    </tr>\n",
       "    <tr>\n",
       "      <th>...</th>\n",
       "      <td>...</td>\n",
       "      <td>...</td>\n",
       "    </tr>\n",
       "    <tr>\n",
       "      <th>39769</th>\n",
       "      <td>irish</td>\n",
       "      <td>[light brown sugar, granulated sugar, butter, ...</td>\n",
       "    </tr>\n",
       "    <tr>\n",
       "      <th>39770</th>\n",
       "      <td>italian</td>\n",
       "      <td>[KRAFT Zesty Italian Dressing, purple onion, b...</td>\n",
       "    </tr>\n",
       "    <tr>\n",
       "      <th>39771</th>\n",
       "      <td>irish</td>\n",
       "      <td>[eggs, citrus fruit, raisins, sourdough starte...</td>\n",
       "    </tr>\n",
       "    <tr>\n",
       "      <th>39772</th>\n",
       "      <td>chinese</td>\n",
       "      <td>[boneless chicken skinless thigh, minced garli...</td>\n",
       "    </tr>\n",
       "    <tr>\n",
       "      <th>39773</th>\n",
       "      <td>mexican</td>\n",
       "      <td>[green chile, jalapeno chilies, onions, ground...</td>\n",
       "    </tr>\n",
       "  </tbody>\n",
       "</table>\n",
       "<p>39774 rows × 2 columns</p>\n",
       "</div>"
      ],
      "text/plain": [
       "           cuisine                                        ingredients\n",
       "0            greek  [romaine lettuce, black olives, grape tomatoes...\n",
       "1      southern_us  [plain flour, ground pepper, salt, tomatoes, g...\n",
       "2         filipino  [eggs, pepper, salt, mayonaise, cooking oil, g...\n",
       "3           indian                [water, vegetable oil, wheat, salt]\n",
       "4           indian  [black pepper, shallots, cornflour, cayenne pe...\n",
       "...            ...                                                ...\n",
       "39769        irish  [light brown sugar, granulated sugar, butter, ...\n",
       "39770      italian  [KRAFT Zesty Italian Dressing, purple onion, b...\n",
       "39771        irish  [eggs, citrus fruit, raisins, sourdough starte...\n",
       "39772      chinese  [boneless chicken skinless thigh, minced garli...\n",
       "39773      mexican  [green chile, jalapeno chilies, onions, ground...\n",
       "\n",
       "[39774 rows x 2 columns]"
      ]
     },
     "execution_count": 31,
     "metadata": {},
     "output_type": "execute_result"
    }
   ],
   "source": [
    "recipes"
   ]
  },
  {
   "cell_type": "code",
   "execution_count": 32,
   "metadata": {},
   "outputs": [],
   "source": [
    "#COLLECT ALL UNIQUE CUISINE NAMES\n",
    "cuisine_name = []\n",
    "for unique_name in recipes.cuisine.unique():\n",
    "    cuisine_name.append(unique_name)"
   ]
  },
  {
   "cell_type": "code",
   "execution_count": 33,
   "metadata": {},
   "outputs": [
    {
     "data": {
      "text/html": [
       "<div>\n",
       "<style scoped>\n",
       "    .dataframe tbody tr th:only-of-type {\n",
       "        vertical-align: middle;\n",
       "    }\n",
       "\n",
       "    .dataframe tbody tr th {\n",
       "        vertical-align: top;\n",
       "    }\n",
       "\n",
       "    .dataframe thead th {\n",
       "        text-align: right;\n",
       "    }\n",
       "</style>\n",
       "<table border=\"1\" class=\"dataframe\">\n",
       "  <thead>\n",
       "    <tr style=\"text-align: right;\">\n",
       "      <th></th>\n",
       "      <th>original basket</th>\n",
       "    </tr>\n",
       "  </thead>\n",
       "  <tbody>\n",
       "    <tr>\n",
       "      <th>0</th>\n",
       "      <td>[citrus fruit, semi-finished bread, margarine,...</td>\n",
       "    </tr>\n",
       "    <tr>\n",
       "      <th>1</th>\n",
       "      <td>[tropical fruit, yogurt, coffee]</td>\n",
       "    </tr>\n",
       "    <tr>\n",
       "      <th>2</th>\n",
       "      <td>[whole milk]</td>\n",
       "    </tr>\n",
       "    <tr>\n",
       "      <th>3</th>\n",
       "      <td>[pip fruit, yogurt, cream cheese, meat spreads]</td>\n",
       "    </tr>\n",
       "    <tr>\n",
       "      <th>4</th>\n",
       "      <td>[other vegetables, whole milk, condensed milk,...</td>\n",
       "    </tr>\n",
       "    <tr>\n",
       "      <th>...</th>\n",
       "      <td>...</td>\n",
       "    </tr>\n",
       "    <tr>\n",
       "      <th>9830</th>\n",
       "      <td>[sausage, chicken, beef, hamburger meat, citru...</td>\n",
       "    </tr>\n",
       "    <tr>\n",
       "      <th>9831</th>\n",
       "      <td>[cooking chocolate]</td>\n",
       "    </tr>\n",
       "    <tr>\n",
       "      <th>9832</th>\n",
       "      <td>[chicken, citrus fruit, other vegetables, butt...</td>\n",
       "    </tr>\n",
       "    <tr>\n",
       "      <th>9833</th>\n",
       "      <td>[semi-finished bread, bottled water, soda, bot...</td>\n",
       "    </tr>\n",
       "    <tr>\n",
       "      <th>9834</th>\n",
       "      <td>[chicken, tropical fruit, other vegetables, vi...</td>\n",
       "    </tr>\n",
       "  </tbody>\n",
       "</table>\n",
       "<p>9835 rows × 1 columns</p>\n",
       "</div>"
      ],
      "text/plain": [
       "                                        original basket\n",
       "0     [citrus fruit, semi-finished bread, margarine,...\n",
       "1                      [tropical fruit, yogurt, coffee]\n",
       "2                                          [whole milk]\n",
       "3       [pip fruit, yogurt, cream cheese, meat spreads]\n",
       "4     [other vegetables, whole milk, condensed milk,...\n",
       "...                                                 ...\n",
       "9830  [sausage, chicken, beef, hamburger meat, citru...\n",
       "9831                                [cooking chocolate]\n",
       "9832  [chicken, citrus fruit, other vegetables, butt...\n",
       "9833  [semi-finished bread, bottled water, soda, bot...\n",
       "9834  [chicken, tropical fruit, other vegetables, vi...\n",
       "\n",
       "[9835 rows x 1 columns]"
      ]
     },
     "execution_count": 33,
     "metadata": {},
     "output_type": "execute_result"
    }
   ],
   "source": [
    "groceries"
   ]
  },
  {
   "cell_type": "code",
   "execution_count": 34,
   "metadata": {},
   "outputs": [],
   "source": [
    "#NORMALIZE THE DATA"
   ]
  },
  {
   "cell_type": "code",
   "execution_count": 35,
   "metadata": {},
   "outputs": [],
   "source": [
    "lista_prova = [cleaningString(s) for s in recipes[\"ingredients\"]]\n",
    "recipes[\"ingredients\"] = lista_prova"
   ]
  },
  {
   "cell_type": "code",
   "execution_count": 36,
   "metadata": {},
   "outputs": [],
   "source": [
    "lista_prova = [cleaningString(s) for s in groceries[\"original basket\"]]\n",
    "groceries[\"original basket\"] = lista_prova"
   ]
  },
  {
   "cell_type": "code",
   "execution_count": 37,
   "metadata": {},
   "outputs": [],
   "source": [
    "#DELETE STOPWORDS AND 2-GRAM\n"
   ]
  },
  {
   "cell_type": "code",
   "execution_count": 38,
   "metadata": {},
   "outputs": [],
   "source": [
    "lista_prova = [deleteStopwords(s) for s in recipes[\"ingredients\"]]\n",
    "recipes[\"ingredients\"] = lista_prova"
   ]
  },
  {
   "cell_type": "code",
   "execution_count": 39,
   "metadata": {},
   "outputs": [],
   "source": [
    "lista_prova = [deleteStopwords(s) for s in groceries[\"original basket\"]]\n",
    "groceries[\"original basket\"] = lista_prova"
   ]
  },
  {
   "cell_type": "code",
   "execution_count": 40,
   "metadata": {},
   "outputs": [],
   "source": [
    "#LEVENSTHEIN DISTANCE"
   ]
  },
  {
   "cell_type": "code",
   "execution_count": 41,
   "metadata": {},
   "outputs": [
    {
     "data": {
      "text/html": [
       "<div>\n",
       "<style scoped>\n",
       "    .dataframe tbody tr th:only-of-type {\n",
       "        vertical-align: middle;\n",
       "    }\n",
       "\n",
       "    .dataframe tbody tr th {\n",
       "        vertical-align: top;\n",
       "    }\n",
       "\n",
       "    .dataframe thead th {\n",
       "        text-align: right;\n",
       "    }\n",
       "</style>\n",
       "<table border=\"1\" class=\"dataframe\">\n",
       "  <thead>\n",
       "    <tr style=\"text-align: right;\">\n",
       "      <th></th>\n",
       "      <th>cuisine</th>\n",
       "      <th>ingredients</th>\n",
       "    </tr>\n",
       "  </thead>\n",
       "  <tbody>\n",
       "    <tr>\n",
       "      <th>0</th>\n",
       "      <td>greek</td>\n",
       "      <td>[romaine lettuce, black olives, grape tomatoes...</td>\n",
       "    </tr>\n",
       "    <tr>\n",
       "      <th>1</th>\n",
       "      <td>southern_us</td>\n",
       "      <td>[plain flour, ground pepper, salt, tomatoes, g...</td>\n",
       "    </tr>\n",
       "    <tr>\n",
       "      <th>2</th>\n",
       "      <td>filipino</td>\n",
       "      <td>[eggs, pepper, salt, mayonaise, cooking oil, g...</td>\n",
       "    </tr>\n",
       "    <tr>\n",
       "      <th>3</th>\n",
       "      <td>indian</td>\n",
       "      <td>[water, vegetable oil, wheat, salt]</td>\n",
       "    </tr>\n",
       "    <tr>\n",
       "      <th>4</th>\n",
       "      <td>indian</td>\n",
       "      <td>[black pepper, shallots, cornflour, cayenne pe...</td>\n",
       "    </tr>\n",
       "    <tr>\n",
       "      <th>...</th>\n",
       "      <td>...</td>\n",
       "      <td>...</td>\n",
       "    </tr>\n",
       "    <tr>\n",
       "      <th>39769</th>\n",
       "      <td>irish</td>\n",
       "      <td>[light brown sugar, granulated sugar, butter, ...</td>\n",
       "    </tr>\n",
       "    <tr>\n",
       "      <th>39770</th>\n",
       "      <td>italian</td>\n",
       "      <td>[kraft zesty italian dressing, purple onion, b...</td>\n",
       "    </tr>\n",
       "    <tr>\n",
       "      <th>39771</th>\n",
       "      <td>irish</td>\n",
       "      <td>[eggs, citrus fruit, raisins, sourdough starte...</td>\n",
       "    </tr>\n",
       "    <tr>\n",
       "      <th>39772</th>\n",
       "      <td>chinese</td>\n",
       "      <td>[boneless chicken skinless thigh, minced garli...</td>\n",
       "    </tr>\n",
       "    <tr>\n",
       "      <th>39773</th>\n",
       "      <td>mexican</td>\n",
       "      <td>[green chile, jalapeno chilies, onions, ground...</td>\n",
       "    </tr>\n",
       "  </tbody>\n",
       "</table>\n",
       "<p>39774 rows × 2 columns</p>\n",
       "</div>"
      ],
      "text/plain": [
       "           cuisine                                        ingredients\n",
       "0            greek  [romaine lettuce, black olives, grape tomatoes...\n",
       "1      southern_us  [plain flour, ground pepper, salt, tomatoes, g...\n",
       "2         filipino  [eggs, pepper, salt, mayonaise, cooking oil, g...\n",
       "3           indian                [water, vegetable oil, wheat, salt]\n",
       "4           indian  [black pepper, shallots, cornflour, cayenne pe...\n",
       "...            ...                                                ...\n",
       "39769        irish  [light brown sugar, granulated sugar, butter, ...\n",
       "39770      italian  [kraft zesty italian dressing, purple onion, b...\n",
       "39771        irish  [eggs, citrus fruit, raisins, sourdough starte...\n",
       "39772      chinese  [boneless chicken skinless thigh, minced garli...\n",
       "39773      mexican  [green chile, jalapeno chilies, onions, ground...\n",
       "\n",
       "[39774 rows x 2 columns]"
      ]
     },
     "execution_count": 41,
     "metadata": {},
     "output_type": "execute_result"
    }
   ],
   "source": [
    "recipes"
   ]
  },
  {
   "cell_type": "code",
   "execution_count": 42,
   "metadata": {},
   "outputs": [],
   "source": [
    "temporary = \" \".join(list(itertools.chain.from_iterable(recipes[\"ingredients\"])))"
   ]
  },
  {
   "cell_type": "code",
   "execution_count": 43,
   "metadata": {},
   "outputs": [],
   "source": [
    "WORDS = Counter(words(temporary))"
   ]
  },
  {
   "cell_type": "code",
   "execution_count": 44,
   "metadata": {},
   "outputs": [],
   "source": [
    "#temporary location, need to move this function in the function section\n",
    "def P(word, N=sum(WORDS.values())): \n",
    "    \"Probability of `word`.\"\n",
    "    return WORDS[word] / N"
   ]
  },
  {
   "cell_type": "code",
   "execution_count": 45,
   "metadata": {},
   "outputs": [],
   "source": [
    "lista_prova = [correctionString(s) for s in groceries[\"original basket\"]]\n",
    "groceries[\"original basket\"] = lista_prova"
   ]
  },
  {
   "cell_type": "code",
   "execution_count": 46,
   "metadata": {},
   "outputs": [],
   "source": [
    "#STEMMING"
   ]
  },
  {
   "cell_type": "code",
   "execution_count": 47,
   "metadata": {},
   "outputs": [],
   "source": [
    "#stemming ingredients\n",
    "lista_prova=[]\n",
    "for recipe in recipes[\"ingredients\"]:\n",
    "    lista_prova.append(stemming(recipe))\n",
    "recipes[\"ingredients\"] = lista_prova"
   ]
  },
  {
   "cell_type": "code",
   "execution_count": 48,
   "metadata": {},
   "outputs": [],
   "source": [
    "#stemming groceries\n",
    "lista_prova=[]\n",
    "for grocery in groceries[\"original basket\"] :\n",
    "    lista_prova.append(stemming(grocery))\n",
    "groceries[\"original basket\"] = lista_prova"
   ]
  },
  {
   "cell_type": "code",
   "execution_count": 49,
   "metadata": {},
   "outputs": [
    {
     "data": {
      "text/html": [
       "<div>\n",
       "<style scoped>\n",
       "    .dataframe tbody tr th:only-of-type {\n",
       "        vertical-align: middle;\n",
       "    }\n",
       "\n",
       "    .dataframe tbody tr th {\n",
       "        vertical-align: top;\n",
       "    }\n",
       "\n",
       "    .dataframe thead th {\n",
       "        text-align: right;\n",
       "    }\n",
       "</style>\n",
       "<table border=\"1\" class=\"dataframe\">\n",
       "  <thead>\n",
       "    <tr style=\"text-align: right;\">\n",
       "      <th></th>\n",
       "      <th>cuisine</th>\n",
       "      <th>ingredients</th>\n",
       "    </tr>\n",
       "  </thead>\n",
       "  <tbody>\n",
       "    <tr>\n",
       "      <th>0</th>\n",
       "      <td>greek</td>\n",
       "      <td>[romain lettuc, black oliv, grape tomato, garl...</td>\n",
       "    </tr>\n",
       "    <tr>\n",
       "      <th>1</th>\n",
       "      <td>southern_us</td>\n",
       "      <td>[plain flour, ground pepper, salt, tomato, gro...</td>\n",
       "    </tr>\n",
       "    <tr>\n",
       "      <th>2</th>\n",
       "      <td>filipino</td>\n",
       "      <td>[egg, pepper, salt, mayonais, cook oil, green ...</td>\n",
       "    </tr>\n",
       "    <tr>\n",
       "      <th>3</th>\n",
       "      <td>indian</td>\n",
       "      <td>[water, veget oil, wheat, salt]</td>\n",
       "    </tr>\n",
       "    <tr>\n",
       "      <th>4</th>\n",
       "      <td>indian</td>\n",
       "      <td>[black pepper, shallot, cornflour, cayenn pepp...</td>\n",
       "    </tr>\n",
       "    <tr>\n",
       "      <th>...</th>\n",
       "      <td>...</td>\n",
       "      <td>...</td>\n",
       "    </tr>\n",
       "    <tr>\n",
       "      <th>39769</th>\n",
       "      <td>irish</td>\n",
       "      <td>[light brown sugar, granul sugar, butter, warm...</td>\n",
       "    </tr>\n",
       "    <tr>\n",
       "      <th>39770</th>\n",
       "      <td>italian</td>\n",
       "      <td>[kraft zesti italian dress, purpl onion, brocc...</td>\n",
       "    </tr>\n",
       "    <tr>\n",
       "      <th>39771</th>\n",
       "      <td>irish</td>\n",
       "      <td>[egg, citru fruit, raisin, sourdough starter, ...</td>\n",
       "    </tr>\n",
       "    <tr>\n",
       "      <th>39772</th>\n",
       "      <td>chinese</td>\n",
       "      <td>[boneless chicken skinless thigh, minc garlic,...</td>\n",
       "    </tr>\n",
       "    <tr>\n",
       "      <th>39773</th>\n",
       "      <td>mexican</td>\n",
       "      <td>[green chile, jalapeno chili, onion, ground bl...</td>\n",
       "    </tr>\n",
       "  </tbody>\n",
       "</table>\n",
       "<p>39774 rows × 2 columns</p>\n",
       "</div>"
      ],
      "text/plain": [
       "           cuisine                                        ingredients\n",
       "0            greek  [romain lettuc, black oliv, grape tomato, garl...\n",
       "1      southern_us  [plain flour, ground pepper, salt, tomato, gro...\n",
       "2         filipino  [egg, pepper, salt, mayonais, cook oil, green ...\n",
       "3           indian                    [water, veget oil, wheat, salt]\n",
       "4           indian  [black pepper, shallot, cornflour, cayenn pepp...\n",
       "...            ...                                                ...\n",
       "39769        irish  [light brown sugar, granul sugar, butter, warm...\n",
       "39770      italian  [kraft zesti italian dress, purpl onion, brocc...\n",
       "39771        irish  [egg, citru fruit, raisin, sourdough starter, ...\n",
       "39772      chinese  [boneless chicken skinless thigh, minc garlic,...\n",
       "39773      mexican  [green chile, jalapeno chili, onion, ground bl...\n",
       "\n",
       "[39774 rows x 2 columns]"
      ]
     },
     "execution_count": 49,
     "metadata": {},
     "output_type": "execute_result"
    }
   ],
   "source": [
    "recipes"
   ]
  },
  {
   "cell_type": "code",
   "execution_count": 50,
   "metadata": {},
   "outputs": [],
   "source": [
    "#FOR EACH RECIPE COLLECT AND STORE ALL DOCUMENTS OF THAT RECIPE IN STRING FORMAT\n",
    "dict_recipes_true_name = {}\n",
    "for recipe_name in cuisine_name :\n",
    "    recipe_df = recipes.loc[recipes['cuisine'] == recipe_name]\n",
    "    array = recipe_df[\"ingredients\"].values\n",
    "    doc = []\n",
    "    for list_recipe in array:\n",
    "        string = \"\"\n",
    "        string = \", \".join(list_recipe)\n",
    "        string = string.strip()\n",
    "        doc.append(string)\n",
    "    dict_recipes_true_name[recipe_name] = doc"
   ]
  },
  {
   "cell_type": "code",
   "execution_count": 51,
   "metadata": {},
   "outputs": [
    {
     "data": {
      "text/html": [
       "<div>\n",
       "<style scoped>\n",
       "    .dataframe tbody tr th:only-of-type {\n",
       "        vertical-align: middle;\n",
       "    }\n",
       "\n",
       "    .dataframe tbody tr th {\n",
       "        vertical-align: top;\n",
       "    }\n",
       "\n",
       "    .dataframe thead th {\n",
       "        text-align: right;\n",
       "    }\n",
       "</style>\n",
       "<table border=\"1\" class=\"dataframe\">\n",
       "  <thead>\n",
       "    <tr style=\"text-align: right;\">\n",
       "      <th></th>\n",
       "      <th>original basket</th>\n",
       "    </tr>\n",
       "  </thead>\n",
       "  <tbody>\n",
       "    <tr>\n",
       "      <th>0</th>\n",
       "      <td>[citru fruit, semi bread, margarin, readi soup]</td>\n",
       "    </tr>\n",
       "    <tr>\n",
       "      <th>1</th>\n",
       "      <td>[tropic fruit, yogurt, coffe]</td>\n",
       "    </tr>\n",
       "    <tr>\n",
       "      <th>2</th>\n",
       "      <td>[whole milk]</td>\n",
       "    </tr>\n",
       "    <tr>\n",
       "      <th>3</th>\n",
       "      <td>[pie fruit, yogurt, cream chees, meat spread]</td>\n",
       "    </tr>\n",
       "    <tr>\n",
       "      <th>4</th>\n",
       "      <td>[veget, whole milk, condens milk, long lime bake]</td>\n",
       "    </tr>\n",
       "    <tr>\n",
       "      <th>...</th>\n",
       "      <td>...</td>\n",
       "    </tr>\n",
       "    <tr>\n",
       "      <th>9830</th>\n",
       "      <td>[sausag, chicken, beef, hamburg meat, citru fr...</td>\n",
       "    </tr>\n",
       "    <tr>\n",
       "      <th>9831</th>\n",
       "      <td>[cook chocol]</td>\n",
       "    </tr>\n",
       "    <tr>\n",
       "      <th>9832</th>\n",
       "      <td>[chicken, citru fruit, veget, butter, yogurt, ...</td>\n",
       "    </tr>\n",
       "    <tr>\n",
       "      <th>9833</th>\n",
       "      <td>[semi bread, bottl water, soda, bottl beer]</td>\n",
       "    </tr>\n",
       "    <tr>\n",
       "      <th>9834</th>\n",
       "      <td>[chicken, tropic fruit, veget, vinegar, whip bag]</td>\n",
       "    </tr>\n",
       "  </tbody>\n",
       "</table>\n",
       "<p>9835 rows × 1 columns</p>\n",
       "</div>"
      ],
      "text/plain": [
       "                                        original basket\n",
       "0       [citru fruit, semi bread, margarin, readi soup]\n",
       "1                         [tropic fruit, yogurt, coffe]\n",
       "2                                          [whole milk]\n",
       "3         [pie fruit, yogurt, cream chees, meat spread]\n",
       "4     [veget, whole milk, condens milk, long lime bake]\n",
       "...                                                 ...\n",
       "9830  [sausag, chicken, beef, hamburg meat, citru fr...\n",
       "9831                                      [cook chocol]\n",
       "9832  [chicken, citru fruit, veget, butter, yogurt, ...\n",
       "9833        [semi bread, bottl water, soda, bottl beer]\n",
       "9834  [chicken, tropic fruit, veget, vinegar, whip bag]\n",
       "\n",
       "[9835 rows x 1 columns]"
      ]
     },
     "execution_count": 51,
     "metadata": {},
     "output_type": "execute_result"
    }
   ],
   "source": [
    "groceries"
   ]
  },
  {
   "cell_type": "code",
   "execution_count": 52,
   "metadata": {},
   "outputs": [],
   "source": [
    "stripped_nan = groceries[\"original basket\"].values"
   ]
  },
  {
   "cell_type": "markdown",
   "metadata": {},
   "source": [
    "# STEP 3"
   ]
  },
  {
   "cell_type": "markdown",
   "metadata": {},
   "source": [
    "ONE HOT ENCODING BY MLXTEND"
   ]
  },
  {
   "cell_type": "code",
   "execution_count": 53,
   "metadata": {},
   "outputs": [],
   "source": [
    "#ONE HOT ENCODING BY MLXTEND"
   ]
  },
  {
   "cell_type": "code",
   "execution_count": 54,
   "metadata": {},
   "outputs": [],
   "source": [
    "te = TransactionEncoder()\n",
    "te_ary = te.fit(stripped_nan).transform(stripped_nan)\n",
    "one_hot_encoded = pd.DataFrame(te_ary, columns = te.columns_)"
   ]
  },
  {
   "cell_type": "markdown",
   "metadata": {},
   "source": [
    "THE DATA IS READY TO BE APPLIED TO A-PRIORI ALGORITHM. THE MINIMUM SUPPORT IS 1%"
   ]
  },
  {
   "cell_type": "code",
   "execution_count": 55,
   "metadata": {},
   "outputs": [],
   "source": [
    "#THE DATA IS READY TO BE APPLIED TO A-PRIORI ALGORITHM. THE MINIMU SUPPORT IS 0.01, THAT IS 1%\n",
    "results_apriori = apriori(one_hot_encoded, min_support=0.01,\n",
    "                          use_colnames=True, verbose = 0)"
   ]
  },
  {
   "cell_type": "markdown",
   "metadata": {},
   "source": [
    "GET ALL THE ASSOCIATION RULES FROM THE RESULT OF THE A-PRIORI ALGORITHM  WITH CONFIDENCE ABOVE 0.5."
   ]
  },
  {
   "cell_type": "code",
   "execution_count": 56,
   "metadata": {},
   "outputs": [],
   "source": [
    "#GET ALL THE ASSOCIATION RULES FROM THE RESULT OF THE A-PRIORI ALGORITHM  WITH CONFIDENCE ABOVE 0.5.\n",
    "rules = association_rules(results_apriori, metric = 'confidence', \n",
    "                                      min_threshold = 0.5)"
   ]
  },
  {
   "cell_type": "code",
   "execution_count": 57,
   "metadata": {},
   "outputs": [],
   "source": [
    "#total_baskets = len(groceries)"
   ]
  },
  {
   "cell_type": "code",
   "execution_count": 58,
   "metadata": {},
   "outputs": [],
   "source": [
    "#total_baskets"
   ]
  },
  {
   "cell_type": "code",
   "execution_count": 59,
   "metadata": {},
   "outputs": [],
   "source": [
    "#rules[\"antecedentsCounts\"] = rules[\"antecedent support\"] * total_baskets"
   ]
  },
  {
   "cell_type": "code",
   "execution_count": 60,
   "metadata": {},
   "outputs": [],
   "source": [
    "#rules[\"consequentCounts\"] = rules[\"consequent support\"] * total_baskets"
   ]
  },
  {
   "cell_type": "code",
   "execution_count": 61,
   "metadata": {},
   "outputs": [],
   "source": [
    "#rules[\"supportCount\"] = rules[\"support\"] * total_baskets"
   ]
  },
  {
   "cell_type": "code",
   "execution_count": 62,
   "metadata": {},
   "outputs": [],
   "source": [
    "#rules = rules.astype({\"antecedentsCounts\": int, \"consequentCounts\": int, \"supportCount\": int })"
   ]
  },
  {
   "cell_type": "code",
   "execution_count": 63,
   "metadata": {},
   "outputs": [],
   "source": [
    "rules[\"interest\"] = rules[\"confidence\"] - rules[\"consequent support\"]"
   ]
  },
  {
   "cell_type": "code",
   "execution_count": 64,
   "metadata": {},
   "outputs": [],
   "source": [
    "#rules[\"interest\"] = rules[\"confidence\"] - (rules[\"consequentCounts\"]/total_baskets)"
   ]
  },
  {
   "cell_type": "code",
   "execution_count": 65,
   "metadata": {},
   "outputs": [
    {
     "data": {
      "text/html": [
       "<div>\n",
       "<style scoped>\n",
       "    .dataframe tbody tr th:only-of-type {\n",
       "        vertical-align: middle;\n",
       "    }\n",
       "\n",
       "    .dataframe tbody tr th {\n",
       "        vertical-align: top;\n",
       "    }\n",
       "\n",
       "    .dataframe thead th {\n",
       "        text-align: right;\n",
       "    }\n",
       "</style>\n",
       "<table border=\"1\" class=\"dataframe\">\n",
       "  <thead>\n",
       "    <tr style=\"text-align: right;\">\n",
       "      <th></th>\n",
       "      <th>antecedents</th>\n",
       "      <th>consequents</th>\n",
       "      <th>antecedent support</th>\n",
       "      <th>consequent support</th>\n",
       "      <th>support</th>\n",
       "      <th>confidence</th>\n",
       "      <th>lift</th>\n",
       "      <th>leverage</th>\n",
       "      <th>conviction</th>\n",
       "      <th>interest</th>\n",
       "    </tr>\n",
       "  </thead>\n",
       "  <tbody>\n",
       "    <tr>\n",
       "      <th>0</th>\n",
       "      <td>(butter, veget)</td>\n",
       "      <td>(whole milk)</td>\n",
       "      <td>0.020031</td>\n",
       "      <td>0.255516</td>\n",
       "      <td>0.011490</td>\n",
       "      <td>0.573604</td>\n",
       "      <td>2.244885</td>\n",
       "      <td>0.006371</td>\n",
       "      <td>1.745992</td>\n",
       "      <td>0.318088</td>\n",
       "    </tr>\n",
       "    <tr>\n",
       "      <th>1</th>\n",
       "      <td>(root veget, citru fruit)</td>\n",
       "      <td>(veget)</td>\n",
       "      <td>0.017692</td>\n",
       "      <td>0.193493</td>\n",
       "      <td>0.010371</td>\n",
       "      <td>0.586207</td>\n",
       "      <td>3.029608</td>\n",
       "      <td>0.006948</td>\n",
       "      <td>1.949059</td>\n",
       "      <td>0.392714</td>\n",
       "    </tr>\n",
       "    <tr>\n",
       "      <th>2</th>\n",
       "      <td>(curd, yogurt)</td>\n",
       "      <td>(whole milk)</td>\n",
       "      <td>0.017285</td>\n",
       "      <td>0.255516</td>\n",
       "      <td>0.010066</td>\n",
       "      <td>0.582353</td>\n",
       "      <td>2.279125</td>\n",
       "      <td>0.005649</td>\n",
       "      <td>1.782567</td>\n",
       "      <td>0.326837</td>\n",
       "    </tr>\n",
       "    <tr>\n",
       "      <th>3</th>\n",
       "      <td>(veget, egg)</td>\n",
       "      <td>(whole milk)</td>\n",
       "      <td>0.022267</td>\n",
       "      <td>0.255516</td>\n",
       "      <td>0.012303</td>\n",
       "      <td>0.552511</td>\n",
       "      <td>2.162336</td>\n",
       "      <td>0.006613</td>\n",
       "      <td>1.663694</td>\n",
       "      <td>0.296995</td>\n",
       "    </tr>\n",
       "    <tr>\n",
       "      <th>4</th>\n",
       "      <td>(veget, pie fruit)</td>\n",
       "      <td>(whole milk)</td>\n",
       "      <td>0.026131</td>\n",
       "      <td>0.255516</td>\n",
       "      <td>0.013523</td>\n",
       "      <td>0.517510</td>\n",
       "      <td>2.025351</td>\n",
       "      <td>0.006846</td>\n",
       "      <td>1.543003</td>\n",
       "      <td>0.261994</td>\n",
       "    </tr>\n",
       "    <tr>\n",
       "      <th>5</th>\n",
       "      <td>(roll bun, root veget)</td>\n",
       "      <td>(veget)</td>\n",
       "      <td>0.024301</td>\n",
       "      <td>0.193493</td>\n",
       "      <td>0.012201</td>\n",
       "      <td>0.502092</td>\n",
       "      <td>2.594890</td>\n",
       "      <td>0.007499</td>\n",
       "      <td>1.619792</td>\n",
       "      <td>0.308599</td>\n",
       "    </tr>\n",
       "    <tr>\n",
       "      <th>6</th>\n",
       "      <td>(roll bun, root veget)</td>\n",
       "      <td>(whole milk)</td>\n",
       "      <td>0.024301</td>\n",
       "      <td>0.255516</td>\n",
       "      <td>0.012710</td>\n",
       "      <td>0.523013</td>\n",
       "      <td>2.046888</td>\n",
       "      <td>0.006500</td>\n",
       "      <td>1.560804</td>\n",
       "      <td>0.267497</td>\n",
       "    </tr>\n",
       "    <tr>\n",
       "      <th>7</th>\n",
       "      <td>(tropic fruit, root veget)</td>\n",
       "      <td>(veget)</td>\n",
       "      <td>0.021047</td>\n",
       "      <td>0.193493</td>\n",
       "      <td>0.012303</td>\n",
       "      <td>0.584541</td>\n",
       "      <td>3.020999</td>\n",
       "      <td>0.008231</td>\n",
       "      <td>1.941244</td>\n",
       "      <td>0.391048</td>\n",
       "    </tr>\n",
       "    <tr>\n",
       "      <th>8</th>\n",
       "      <td>(tropic fruit, root veget)</td>\n",
       "      <td>(whole milk)</td>\n",
       "      <td>0.021047</td>\n",
       "      <td>0.255516</td>\n",
       "      <td>0.011998</td>\n",
       "      <td>0.570048</td>\n",
       "      <td>2.230969</td>\n",
       "      <td>0.006620</td>\n",
       "      <td>1.731553</td>\n",
       "      <td>0.314532</td>\n",
       "    </tr>\n",
       "    <tr>\n",
       "      <th>9</th>\n",
       "      <td>(yogurt, root veget)</td>\n",
       "      <td>(veget)</td>\n",
       "      <td>0.025826</td>\n",
       "      <td>0.193493</td>\n",
       "      <td>0.012913</td>\n",
       "      <td>0.500000</td>\n",
       "      <td>2.584078</td>\n",
       "      <td>0.007916</td>\n",
       "      <td>1.613015</td>\n",
       "      <td>0.306507</td>\n",
       "    </tr>\n",
       "    <tr>\n",
       "      <th>10</th>\n",
       "      <td>(yogurt, root veget)</td>\n",
       "      <td>(whole milk)</td>\n",
       "      <td>0.025826</td>\n",
       "      <td>0.255516</td>\n",
       "      <td>0.014540</td>\n",
       "      <td>0.562992</td>\n",
       "      <td>2.203354</td>\n",
       "      <td>0.007941</td>\n",
       "      <td>1.703594</td>\n",
       "      <td>0.307476</td>\n",
       "    </tr>\n",
       "    <tr>\n",
       "      <th>11</th>\n",
       "      <td>(tropic fruit, yogurt)</td>\n",
       "      <td>(whole milk)</td>\n",
       "      <td>0.029283</td>\n",
       "      <td>0.255516</td>\n",
       "      <td>0.015150</td>\n",
       "      <td>0.517361</td>\n",
       "      <td>2.024770</td>\n",
       "      <td>0.007668</td>\n",
       "      <td>1.542528</td>\n",
       "      <td>0.261845</td>\n",
       "    </tr>\n",
       "    <tr>\n",
       "      <th>12</th>\n",
       "      <td>(whip sour cream, veget)</td>\n",
       "      <td>(whole milk)</td>\n",
       "      <td>0.028876</td>\n",
       "      <td>0.255516</td>\n",
       "      <td>0.014642</td>\n",
       "      <td>0.507042</td>\n",
       "      <td>1.984385</td>\n",
       "      <td>0.007263</td>\n",
       "      <td>1.510239</td>\n",
       "      <td>0.251526</td>\n",
       "    </tr>\n",
       "    <tr>\n",
       "      <th>13</th>\n",
       "      <td>(veget, yogurt)</td>\n",
       "      <td>(whole milk)</td>\n",
       "      <td>0.043416</td>\n",
       "      <td>0.255516</td>\n",
       "      <td>0.022267</td>\n",
       "      <td>0.512881</td>\n",
       "      <td>2.007235</td>\n",
       "      <td>0.011174</td>\n",
       "      <td>1.528340</td>\n",
       "      <td>0.257365</td>\n",
       "    </tr>\n",
       "    <tr>\n",
       "      <th>14</th>\n",
       "      <td>(whip sour cream, yogurt)</td>\n",
       "      <td>(whole milk)</td>\n",
       "      <td>0.020742</td>\n",
       "      <td>0.255516</td>\n",
       "      <td>0.010880</td>\n",
       "      <td>0.524510</td>\n",
       "      <td>2.052747</td>\n",
       "      <td>0.005580</td>\n",
       "      <td>1.565719</td>\n",
       "      <td>0.268994</td>\n",
       "    </tr>\n",
       "  </tbody>\n",
       "</table>\n",
       "</div>"
      ],
      "text/plain": [
       "                   antecedents   consequents  antecedent support  \\\n",
       "0              (butter, veget)  (whole milk)            0.020031   \n",
       "1    (root veget, citru fruit)       (veget)            0.017692   \n",
       "2               (curd, yogurt)  (whole milk)            0.017285   \n",
       "3                 (veget, egg)  (whole milk)            0.022267   \n",
       "4           (veget, pie fruit)  (whole milk)            0.026131   \n",
       "5       (roll bun, root veget)       (veget)            0.024301   \n",
       "6       (roll bun, root veget)  (whole milk)            0.024301   \n",
       "7   (tropic fruit, root veget)       (veget)            0.021047   \n",
       "8   (tropic fruit, root veget)  (whole milk)            0.021047   \n",
       "9         (yogurt, root veget)       (veget)            0.025826   \n",
       "10        (yogurt, root veget)  (whole milk)            0.025826   \n",
       "11      (tropic fruit, yogurt)  (whole milk)            0.029283   \n",
       "12    (whip sour cream, veget)  (whole milk)            0.028876   \n",
       "13             (veget, yogurt)  (whole milk)            0.043416   \n",
       "14   (whip sour cream, yogurt)  (whole milk)            0.020742   \n",
       "\n",
       "    consequent support   support  confidence      lift  leverage  conviction  \\\n",
       "0             0.255516  0.011490    0.573604  2.244885  0.006371    1.745992   \n",
       "1             0.193493  0.010371    0.586207  3.029608  0.006948    1.949059   \n",
       "2             0.255516  0.010066    0.582353  2.279125  0.005649    1.782567   \n",
       "3             0.255516  0.012303    0.552511  2.162336  0.006613    1.663694   \n",
       "4             0.255516  0.013523    0.517510  2.025351  0.006846    1.543003   \n",
       "5             0.193493  0.012201    0.502092  2.594890  0.007499    1.619792   \n",
       "6             0.255516  0.012710    0.523013  2.046888  0.006500    1.560804   \n",
       "7             0.193493  0.012303    0.584541  3.020999  0.008231    1.941244   \n",
       "8             0.255516  0.011998    0.570048  2.230969  0.006620    1.731553   \n",
       "9             0.193493  0.012913    0.500000  2.584078  0.007916    1.613015   \n",
       "10            0.255516  0.014540    0.562992  2.203354  0.007941    1.703594   \n",
       "11            0.255516  0.015150    0.517361  2.024770  0.007668    1.542528   \n",
       "12            0.255516  0.014642    0.507042  1.984385  0.007263    1.510239   \n",
       "13            0.255516  0.022267    0.512881  2.007235  0.011174    1.528340   \n",
       "14            0.255516  0.010880    0.524510  2.052747  0.005580    1.565719   \n",
       "\n",
       "    interest  \n",
       "0   0.318088  \n",
       "1   0.392714  \n",
       "2   0.326837  \n",
       "3   0.296995  \n",
       "4   0.261994  \n",
       "5   0.308599  \n",
       "6   0.267497  \n",
       "7   0.391048  \n",
       "8   0.314532  \n",
       "9   0.306507  \n",
       "10  0.307476  \n",
       "11  0.261845  \n",
       "12  0.251526  \n",
       "13  0.257365  \n",
       "14  0.268994  "
      ]
     },
     "execution_count": 65,
     "metadata": {},
     "output_type": "execute_result"
    }
   ],
   "source": [
    "rules"
   ]
  },
  {
   "cell_type": "code",
   "execution_count": 66,
   "metadata": {},
   "outputs": [],
   "source": [
    "#GET ALL THE ASSOCIATION RULES WITH LIFT > 1 . ALL ASSOCIATION RULES COLLECTED SO FAR CONFIDENCE =>0.5\n",
    "#LIFT > 1."
   ]
  },
  {
   "cell_type": "code",
   "execution_count": 67,
   "metadata": {},
   "outputs": [],
   "source": [
    "#rules = rules[ (rules['lift'] > 1) ]"
   ]
  },
  {
   "cell_type": "code",
   "execution_count": 68,
   "metadata": {},
   "outputs": [],
   "source": [
    "rules = rules[ (rules['interest'] >= 0.35) ]"
   ]
  },
  {
   "cell_type": "code",
   "execution_count": 69,
   "metadata": {},
   "outputs": [
    {
     "data": {
      "text/html": [
       "<div>\n",
       "<style scoped>\n",
       "    .dataframe tbody tr th:only-of-type {\n",
       "        vertical-align: middle;\n",
       "    }\n",
       "\n",
       "    .dataframe tbody tr th {\n",
       "        vertical-align: top;\n",
       "    }\n",
       "\n",
       "    .dataframe thead th {\n",
       "        text-align: right;\n",
       "    }\n",
       "</style>\n",
       "<table border=\"1\" class=\"dataframe\">\n",
       "  <thead>\n",
       "    <tr style=\"text-align: right;\">\n",
       "      <th></th>\n",
       "      <th>antecedents</th>\n",
       "      <th>consequents</th>\n",
       "      <th>antecedent support</th>\n",
       "      <th>consequent support</th>\n",
       "      <th>support</th>\n",
       "      <th>confidence</th>\n",
       "      <th>lift</th>\n",
       "      <th>leverage</th>\n",
       "      <th>conviction</th>\n",
       "      <th>interest</th>\n",
       "    </tr>\n",
       "  </thead>\n",
       "  <tbody>\n",
       "    <tr>\n",
       "      <th>1</th>\n",
       "      <td>(root veget, citru fruit)</td>\n",
       "      <td>(veget)</td>\n",
       "      <td>0.017692</td>\n",
       "      <td>0.193493</td>\n",
       "      <td>0.010371</td>\n",
       "      <td>0.586207</td>\n",
       "      <td>3.029608</td>\n",
       "      <td>0.006948</td>\n",
       "      <td>1.949059</td>\n",
       "      <td>0.392714</td>\n",
       "    </tr>\n",
       "    <tr>\n",
       "      <th>7</th>\n",
       "      <td>(tropic fruit, root veget)</td>\n",
       "      <td>(veget)</td>\n",
       "      <td>0.021047</td>\n",
       "      <td>0.193493</td>\n",
       "      <td>0.012303</td>\n",
       "      <td>0.584541</td>\n",
       "      <td>3.020999</td>\n",
       "      <td>0.008231</td>\n",
       "      <td>1.941244</td>\n",
       "      <td>0.391048</td>\n",
       "    </tr>\n",
       "  </tbody>\n",
       "</table>\n",
       "</div>"
      ],
      "text/plain": [
       "                  antecedents consequents  antecedent support  \\\n",
       "1   (root veget, citru fruit)     (veget)            0.017692   \n",
       "7  (tropic fruit, root veget)     (veget)            0.021047   \n",
       "\n",
       "   consequent support   support  confidence      lift  leverage  conviction  \\\n",
       "1            0.193493  0.010371    0.586207  3.029608  0.006948    1.949059   \n",
       "7            0.193493  0.012303    0.584541  3.020999  0.008231    1.941244   \n",
       "\n",
       "   interest  \n",
       "1  0.392714  \n",
       "7  0.391048  "
      ]
     },
     "execution_count": 69,
     "metadata": {},
     "output_type": "execute_result"
    }
   ],
   "source": [
    "rules"
   ]
  },
  {
   "cell_type": "code",
   "execution_count": 70,
   "metadata": {},
   "outputs": [],
   "source": [
    "pesol = rules.drop([\"antecedent support\", \"consequent support\", \"lift\", \"leverage\", \"conviction\"], axis = 1)"
   ]
  },
  {
   "cell_type": "code",
   "execution_count": 71,
   "metadata": {},
   "outputs": [
    {
     "data": {
      "text/html": [
       "<div>\n",
       "<style scoped>\n",
       "    .dataframe tbody tr th:only-of-type {\n",
       "        vertical-align: middle;\n",
       "    }\n",
       "\n",
       "    .dataframe tbody tr th {\n",
       "        vertical-align: top;\n",
       "    }\n",
       "\n",
       "    .dataframe thead th {\n",
       "        text-align: right;\n",
       "    }\n",
       "</style>\n",
       "<table border=\"1\" class=\"dataframe\">\n",
       "  <thead>\n",
       "    <tr style=\"text-align: right;\">\n",
       "      <th></th>\n",
       "      <th>antecedents</th>\n",
       "      <th>consequents</th>\n",
       "      <th>support</th>\n",
       "      <th>confidence</th>\n",
       "      <th>interest</th>\n",
       "    </tr>\n",
       "  </thead>\n",
       "  <tbody>\n",
       "    <tr>\n",
       "      <th>1</th>\n",
       "      <td>(root veget, citru fruit)</td>\n",
       "      <td>(veget)</td>\n",
       "      <td>0.010371</td>\n",
       "      <td>0.586207</td>\n",
       "      <td>0.392714</td>\n",
       "    </tr>\n",
       "    <tr>\n",
       "      <th>7</th>\n",
       "      <td>(tropic fruit, root veget)</td>\n",
       "      <td>(veget)</td>\n",
       "      <td>0.012303</td>\n",
       "      <td>0.584541</td>\n",
       "      <td>0.391048</td>\n",
       "    </tr>\n",
       "  </tbody>\n",
       "</table>\n",
       "</div>"
      ],
      "text/plain": [
       "                  antecedents consequents   support  confidence  interest\n",
       "1   (root veget, citru fruit)     (veget)  0.010371    0.586207  0.392714\n",
       "7  (tropic fruit, root veget)     (veget)  0.012303    0.584541  0.391048"
      ]
     },
     "execution_count": 71,
     "metadata": {},
     "output_type": "execute_result"
    }
   ],
   "source": [
    "pesol"
   ]
  },
  {
   "cell_type": "code",
   "execution_count": 72,
   "metadata": {},
   "outputs": [],
   "source": [
    "items = sorted(\n",
    "    set(itertools.chain.from_iterable(rules[\"antecedents\"].values)))"
   ]
  },
  {
   "cell_type": "code",
   "execution_count": 73,
   "metadata": {
    "scrolled": true
   },
   "outputs": [
    {
     "data": {
      "text/html": [
       "<div>\n",
       "<style scoped>\n",
       "    .dataframe tbody tr th:only-of-type {\n",
       "        vertical-align: middle;\n",
       "    }\n",
       "\n",
       "    .dataframe tbody tr th {\n",
       "        vertical-align: top;\n",
       "    }\n",
       "\n",
       "    .dataframe thead th {\n",
       "        text-align: right;\n",
       "    }\n",
       "</style>\n",
       "<table border=\"1\" class=\"dataframe\">\n",
       "  <thead>\n",
       "    <tr style=\"text-align: right;\">\n",
       "      <th></th>\n",
       "      <th>original basket</th>\n",
       "    </tr>\n",
       "  </thead>\n",
       "  <tbody>\n",
       "    <tr>\n",
       "      <th>0</th>\n",
       "      <td>[citru fruit, semi bread, margarin, readi soup]</td>\n",
       "    </tr>\n",
       "    <tr>\n",
       "      <th>1</th>\n",
       "      <td>[tropic fruit, yogurt, coffe]</td>\n",
       "    </tr>\n",
       "    <tr>\n",
       "      <th>2</th>\n",
       "      <td>[whole milk]</td>\n",
       "    </tr>\n",
       "    <tr>\n",
       "      <th>3</th>\n",
       "      <td>[pie fruit, yogurt, cream chees, meat spread]</td>\n",
       "    </tr>\n",
       "    <tr>\n",
       "      <th>4</th>\n",
       "      <td>[veget, whole milk, condens milk, long lime bake]</td>\n",
       "    </tr>\n",
       "    <tr>\n",
       "      <th>...</th>\n",
       "      <td>...</td>\n",
       "    </tr>\n",
       "    <tr>\n",
       "      <th>9830</th>\n",
       "      <td>[sausag, chicken, beef, hamburg meat, citru fr...</td>\n",
       "    </tr>\n",
       "    <tr>\n",
       "      <th>9831</th>\n",
       "      <td>[cook chocol]</td>\n",
       "    </tr>\n",
       "    <tr>\n",
       "      <th>9832</th>\n",
       "      <td>[chicken, citru fruit, veget, butter, yogurt, ...</td>\n",
       "    </tr>\n",
       "    <tr>\n",
       "      <th>9833</th>\n",
       "      <td>[semi bread, bottl water, soda, bottl beer]</td>\n",
       "    </tr>\n",
       "    <tr>\n",
       "      <th>9834</th>\n",
       "      <td>[chicken, tropic fruit, veget, vinegar, whip bag]</td>\n",
       "    </tr>\n",
       "  </tbody>\n",
       "</table>\n",
       "<p>9835 rows × 1 columns</p>\n",
       "</div>"
      ],
      "text/plain": [
       "                                        original basket\n",
       "0       [citru fruit, semi bread, margarin, readi soup]\n",
       "1                         [tropic fruit, yogurt, coffe]\n",
       "2                                          [whole milk]\n",
       "3         [pie fruit, yogurt, cream chees, meat spread]\n",
       "4     [veget, whole milk, condens milk, long lime bake]\n",
       "...                                                 ...\n",
       "9830  [sausag, chicken, beef, hamburg meat, citru fr...\n",
       "9831                                      [cook chocol]\n",
       "9832  [chicken, citru fruit, veget, butter, yogurt, ...\n",
       "9833        [semi bread, bottl water, soda, bottl beer]\n",
       "9834  [chicken, tropic fruit, veget, vinegar, whip bag]\n",
       "\n",
       "[9835 rows x 1 columns]"
      ]
     },
     "execution_count": 73,
     "metadata": {},
     "output_type": "execute_result"
    }
   ],
   "source": [
    "groceries"
   ]
  },
  {
   "cell_type": "code",
   "execution_count": 74,
   "metadata": {},
   "outputs": [
    {
     "data": {
      "text/plain": [
       "'\\nimport numpy as np\\ntest = groceries.apply(np.vectorize(consequentsPrediction), axis=0).set_axis([\"predicted items\"], 1, inplace = False)\\n'"
      ]
     },
     "execution_count": 74,
     "metadata": {},
     "output_type": "execute_result"
    }
   ],
   "source": [
    "\"\"\"\n",
    "import numpy as np\n",
    "test = groceries.apply(np.vectorize(consequentsPrediction), axis=0).set_axis([\"predicted items\"], 1, inplace = False)\n",
    "\"\"\""
   ]
  },
  {
   "cell_type": "code",
   "execution_count": 75,
   "metadata": {},
   "outputs": [],
   "source": [
    "predicted_baskets = []\n",
    "total_baskets = []\n",
    "for i in range(len(groceries[\"original basket\"])):\n",
    "    result = list(consequentsPrediction(groceries[\"original basket\"][i]))\n",
    "    predicted_baskets.append(result)\n",
    "    total_baskets.append(groceries[\"original basket\"][i]+result)"
   ]
  },
  {
   "cell_type": "code",
   "execution_count": 76,
   "metadata": {},
   "outputs": [],
   "source": [
    "groceries[\"association items\"] = pd.Series(predicted_baskets).reset_index().drop(\"index\",1)"
   ]
  },
  {
   "cell_type": "code",
   "execution_count": 77,
   "metadata": {},
   "outputs": [],
   "source": [
    "groceries[\"original basket + association items\"] = pd.Series(total_baskets).reset_index().drop(\"index\",1)"
   ]
  },
  {
   "cell_type": "code",
   "execution_count": 78,
   "metadata": {},
   "outputs": [
    {
     "data": {
      "text/html": [
       "<div>\n",
       "<style scoped>\n",
       "    .dataframe tbody tr th:only-of-type {\n",
       "        vertical-align: middle;\n",
       "    }\n",
       "\n",
       "    .dataframe tbody tr th {\n",
       "        vertical-align: top;\n",
       "    }\n",
       "\n",
       "    .dataframe thead th {\n",
       "        text-align: right;\n",
       "    }\n",
       "</style>\n",
       "<table border=\"1\" class=\"dataframe\">\n",
       "  <thead>\n",
       "    <tr style=\"text-align: right;\">\n",
       "      <th></th>\n",
       "      <th>original basket</th>\n",
       "      <th>association items</th>\n",
       "      <th>original basket + association items</th>\n",
       "    </tr>\n",
       "  </thead>\n",
       "  <tbody>\n",
       "    <tr>\n",
       "      <th>0</th>\n",
       "      <td>[citru fruit, semi bread, margarin, readi soup]</td>\n",
       "      <td>[]</td>\n",
       "      <td>[citru fruit, semi bread, margarin, readi soup]</td>\n",
       "    </tr>\n",
       "    <tr>\n",
       "      <th>1</th>\n",
       "      <td>[tropic fruit, yogurt, coffe]</td>\n",
       "      <td>[]</td>\n",
       "      <td>[tropic fruit, yogurt, coffe]</td>\n",
       "    </tr>\n",
       "    <tr>\n",
       "      <th>2</th>\n",
       "      <td>[whole milk]</td>\n",
       "      <td>[]</td>\n",
       "      <td>[whole milk]</td>\n",
       "    </tr>\n",
       "    <tr>\n",
       "      <th>3</th>\n",
       "      <td>[pie fruit, yogurt, cream chees, meat spread]</td>\n",
       "      <td>[]</td>\n",
       "      <td>[pie fruit, yogurt, cream chees, meat spread]</td>\n",
       "    </tr>\n",
       "    <tr>\n",
       "      <th>4</th>\n",
       "      <td>[veget, whole milk, condens milk, long lime bake]</td>\n",
       "      <td>[]</td>\n",
       "      <td>[veget, whole milk, condens milk, long lime bake]</td>\n",
       "    </tr>\n",
       "    <tr>\n",
       "      <th>...</th>\n",
       "      <td>...</td>\n",
       "      <td>...</td>\n",
       "      <td>...</td>\n",
       "    </tr>\n",
       "    <tr>\n",
       "      <th>9830</th>\n",
       "      <td>[sausag, chicken, beef, hamburg meat, citru fr...</td>\n",
       "      <td>[veget]</td>\n",
       "      <td>[sausag, chicken, beef, hamburg meat, citru fr...</td>\n",
       "    </tr>\n",
       "    <tr>\n",
       "      <th>9831</th>\n",
       "      <td>[cook chocol]</td>\n",
       "      <td>[]</td>\n",
       "      <td>[cook chocol]</td>\n",
       "    </tr>\n",
       "    <tr>\n",
       "      <th>9832</th>\n",
       "      <td>[chicken, citru fruit, veget, butter, yogurt, ...</td>\n",
       "      <td>[]</td>\n",
       "      <td>[chicken, citru fruit, veget, butter, yogurt, ...</td>\n",
       "    </tr>\n",
       "    <tr>\n",
       "      <th>9833</th>\n",
       "      <td>[semi bread, bottl water, soda, bottl beer]</td>\n",
       "      <td>[]</td>\n",
       "      <td>[semi bread, bottl water, soda, bottl beer]</td>\n",
       "    </tr>\n",
       "    <tr>\n",
       "      <th>9834</th>\n",
       "      <td>[chicken, tropic fruit, veget, vinegar, whip bag]</td>\n",
       "      <td>[]</td>\n",
       "      <td>[chicken, tropic fruit, veget, vinegar, whip bag]</td>\n",
       "    </tr>\n",
       "  </tbody>\n",
       "</table>\n",
       "<p>9835 rows × 3 columns</p>\n",
       "</div>"
      ],
      "text/plain": [
       "                                        original basket association items  \\\n",
       "0       [citru fruit, semi bread, margarin, readi soup]                []   \n",
       "1                         [tropic fruit, yogurt, coffe]                []   \n",
       "2                                          [whole milk]                []   \n",
       "3         [pie fruit, yogurt, cream chees, meat spread]                []   \n",
       "4     [veget, whole milk, condens milk, long lime bake]                []   \n",
       "...                                                 ...               ...   \n",
       "9830  [sausag, chicken, beef, hamburg meat, citru fr...           [veget]   \n",
       "9831                                      [cook chocol]                []   \n",
       "9832  [chicken, citru fruit, veget, butter, yogurt, ...                []   \n",
       "9833        [semi bread, bottl water, soda, bottl beer]                []   \n",
       "9834  [chicken, tropic fruit, veget, vinegar, whip bag]                []   \n",
       "\n",
       "                    original basket + association items  \n",
       "0       [citru fruit, semi bread, margarin, readi soup]  \n",
       "1                         [tropic fruit, yogurt, coffe]  \n",
       "2                                          [whole milk]  \n",
       "3         [pie fruit, yogurt, cream chees, meat spread]  \n",
       "4     [veget, whole milk, condens milk, long lime bake]  \n",
       "...                                                 ...  \n",
       "9830  [sausag, chicken, beef, hamburg meat, citru fr...  \n",
       "9831                                      [cook chocol]  \n",
       "9832  [chicken, citru fruit, veget, butter, yogurt, ...  \n",
       "9833        [semi bread, bottl water, soda, bottl beer]  \n",
       "9834  [chicken, tropic fruit, veget, vinegar, whip bag]  \n",
       "\n",
       "[9835 rows x 3 columns]"
      ]
     },
     "execution_count": 78,
     "metadata": {},
     "output_type": "execute_result"
    }
   ],
   "source": [
    "groceries"
   ]
  },
  {
   "cell_type": "markdown",
   "metadata": {},
   "source": [
    "# STEP 4"
   ]
  },
  {
   "cell_type": "code",
   "execution_count": 79,
   "metadata": {},
   "outputs": [],
   "source": [
    "#STEP 4"
   ]
  },
  {
   "cell_type": "markdown",
   "metadata": {},
   "source": [
    "COLLECT ALL UNIQUE CUISINE NAMES"
   ]
  },
  {
   "cell_type": "markdown",
   "metadata": {},
   "source": [
    "FOR EACH RECIPE COLLECT AND STORE ALL DOCUMENTS OF THAT RECIPE IN STRING FORMAT"
   ]
  },
  {
   "cell_type": "code",
   "execution_count": 80,
   "metadata": {},
   "outputs": [
    {
     "data": {
      "text/plain": [
       "'\\ndict_string = {}\\nfor recipe_name in cuisine_name :\\n    recipe_df = recipes.loc[recipes[\\'cuisine\\'] == recipe_name]\\n    array = recipe_df[\"ingredients\"].values\\n    doc = \"\"\\n    for list_recipe in array:\\n        for elem in list_recipe :\\n            doc += elem + \" \"\\n    doc = doc[:-1]\\n    dict_string[recipe_name] = doc\\n'"
      ]
     },
     "execution_count": 80,
     "metadata": {},
     "output_type": "execute_result"
    }
   ],
   "source": [
    "#FOR EACH RECIPE COLLECT AND STORE ALL DOCUMENTS OF THAT RECIPE IN STRING FORMAT\n",
    "\"\"\"\n",
    "dict_string = {}\n",
    "for recipe_name in cuisine_name :\n",
    "    recipe_df = recipes.loc[recipes['cuisine'] == recipe_name]\n",
    "    array = recipe_df[\"ingredients\"].values\n",
    "    doc = \"\"\n",
    "    for list_recipe in array:\n",
    "        for elem in list_recipe :\n",
    "            doc += elem + \" \"\n",
    "    doc = doc[:-1]\n",
    "    dict_string[recipe_name] = doc\n",
    "\"\"\""
   ]
  },
  {
   "cell_type": "markdown",
   "metadata": {},
   "source": [
    "CREATE THE TERM-DOCUMENT MATRIX"
   ]
  },
  {
   "cell_type": "code",
   "execution_count": 81,
   "metadata": {},
   "outputs": [],
   "source": [
    "#CREATE THE TERM-DOCUMENT MATRIX"
   ]
  },
  {
   "cell_type": "markdown",
   "metadata": {},
   "source": [
    "CREATE THE DATAFRAME WHICH REPRESENTS THE TF-IDF MATRIX"
   ]
  },
  {
   "cell_type": "code",
   "execution_count": 82,
   "metadata": {},
   "outputs": [],
   "source": [
    "#CREATE THE DATAFRAME WHICH REPRESENTS THE TF-IDF MATRIX\n",
    "#matrix = pd.DataFrame(matrixWeights(corpus_R, \"test\")).T"
   ]
  },
  {
   "cell_type": "code",
   "execution_count": 83,
   "metadata": {},
   "outputs": [],
   "source": [
    "#matrix = matrix.fillna(0.0)"
   ]
  },
  {
   "cell_type": "code",
   "execution_count": 84,
   "metadata": {},
   "outputs": [],
   "source": [
    "#matrix.columns = documents_label"
   ]
  },
  {
   "cell_type": "code",
   "execution_count": 85,
   "metadata": {},
   "outputs": [],
   "source": [
    "#matrix"
   ]
  },
  {
   "cell_type": "markdown",
   "metadata": {},
   "source": [
    "# TEST AREA"
   ]
  },
  {
   "cell_type": "code",
   "execution_count": 86,
   "metadata": {},
   "outputs": [],
   "source": [
    "#FOR EACH RECIPE COLLECT AND STORE ALL DOCUMENTS OF THAT RECIPE IN STRING FORMAT\n",
    "dict_recipes = {}\n",
    "for recipe_name in cuisine_name :\n",
    "    recipe_df = recipes.loc[recipes['cuisine'] == recipe_name]\n",
    "    array = recipe_df[\"ingredients\"].values\n",
    "    doc = []\n",
    "    for list_recipe in array:\n",
    "        string = \"\"\n",
    "        for elem in list_recipe :\n",
    "            string += elem + \" \"\n",
    "        string = string.strip()\n",
    "        doc.append(string)\n",
    "    dict_recipes[recipe_name] = doc"
   ]
  },
  {
   "cell_type": "code",
   "execution_count": 87,
   "metadata": {},
   "outputs": [],
   "source": [
    "#START OF TEST AREA"
   ]
  },
  {
   "cell_type": "code",
   "execution_count": 88,
   "metadata": {},
   "outputs": [],
   "source": [
    "#END OF TEST AREA"
   ]
  },
  {
   "cell_type": "code",
   "execution_count": 89,
   "metadata": {
    "scrolled": true
   },
   "outputs": [
    {
     "data": {
      "text/html": [
       "<div>\n",
       "<style scoped>\n",
       "    .dataframe tbody tr th:only-of-type {\n",
       "        vertical-align: middle;\n",
       "    }\n",
       "\n",
       "    .dataframe tbody tr th {\n",
       "        vertical-align: top;\n",
       "    }\n",
       "\n",
       "    .dataframe thead th {\n",
       "        text-align: right;\n",
       "    }\n",
       "</style>\n",
       "<table border=\"1\" class=\"dataframe\">\n",
       "  <thead>\n",
       "    <tr style=\"text-align: right;\">\n",
       "      <th></th>\n",
       "      <th>original basket</th>\n",
       "      <th>association items</th>\n",
       "      <th>original basket + association items</th>\n",
       "    </tr>\n",
       "  </thead>\n",
       "  <tbody>\n",
       "    <tr>\n",
       "      <th>0</th>\n",
       "      <td>[citru fruit, semi bread, margarin, readi soup]</td>\n",
       "      <td>[]</td>\n",
       "      <td>[citru fruit, semi bread, margarin, readi soup]</td>\n",
       "    </tr>\n",
       "    <tr>\n",
       "      <th>1</th>\n",
       "      <td>[tropic fruit, yogurt, coffe]</td>\n",
       "      <td>[]</td>\n",
       "      <td>[tropic fruit, yogurt, coffe]</td>\n",
       "    </tr>\n",
       "    <tr>\n",
       "      <th>2</th>\n",
       "      <td>[whole milk]</td>\n",
       "      <td>[]</td>\n",
       "      <td>[whole milk]</td>\n",
       "    </tr>\n",
       "    <tr>\n",
       "      <th>3</th>\n",
       "      <td>[pie fruit, yogurt, cream chees, meat spread]</td>\n",
       "      <td>[]</td>\n",
       "      <td>[pie fruit, yogurt, cream chees, meat spread]</td>\n",
       "    </tr>\n",
       "    <tr>\n",
       "      <th>4</th>\n",
       "      <td>[veget, whole milk, condens milk, long lime bake]</td>\n",
       "      <td>[]</td>\n",
       "      <td>[veget, whole milk, condens milk, long lime bake]</td>\n",
       "    </tr>\n",
       "    <tr>\n",
       "      <th>...</th>\n",
       "      <td>...</td>\n",
       "      <td>...</td>\n",
       "      <td>...</td>\n",
       "    </tr>\n",
       "    <tr>\n",
       "      <th>9830</th>\n",
       "      <td>[sausag, chicken, beef, hamburg meat, citru fr...</td>\n",
       "      <td>[veget]</td>\n",
       "      <td>[sausag, chicken, beef, hamburg meat, citru fr...</td>\n",
       "    </tr>\n",
       "    <tr>\n",
       "      <th>9831</th>\n",
       "      <td>[cook chocol]</td>\n",
       "      <td>[]</td>\n",
       "      <td>[cook chocol]</td>\n",
       "    </tr>\n",
       "    <tr>\n",
       "      <th>9832</th>\n",
       "      <td>[chicken, citru fruit, veget, butter, yogurt, ...</td>\n",
       "      <td>[]</td>\n",
       "      <td>[chicken, citru fruit, veget, butter, yogurt, ...</td>\n",
       "    </tr>\n",
       "    <tr>\n",
       "      <th>9833</th>\n",
       "      <td>[semi bread, bottl water, soda, bottl beer]</td>\n",
       "      <td>[]</td>\n",
       "      <td>[semi bread, bottl water, soda, bottl beer]</td>\n",
       "    </tr>\n",
       "    <tr>\n",
       "      <th>9834</th>\n",
       "      <td>[chicken, tropic fruit, veget, vinegar, whip bag]</td>\n",
       "      <td>[]</td>\n",
       "      <td>[chicken, tropic fruit, veget, vinegar, whip bag]</td>\n",
       "    </tr>\n",
       "  </tbody>\n",
       "</table>\n",
       "<p>9835 rows × 3 columns</p>\n",
       "</div>"
      ],
      "text/plain": [
       "                                        original basket association items  \\\n",
       "0       [citru fruit, semi bread, margarin, readi soup]                []   \n",
       "1                         [tropic fruit, yogurt, coffe]                []   \n",
       "2                                          [whole milk]                []   \n",
       "3         [pie fruit, yogurt, cream chees, meat spread]                []   \n",
       "4     [veget, whole milk, condens milk, long lime bake]                []   \n",
       "...                                                 ...               ...   \n",
       "9830  [sausag, chicken, beef, hamburg meat, citru fr...           [veget]   \n",
       "9831                                      [cook chocol]                []   \n",
       "9832  [chicken, citru fruit, veget, butter, yogurt, ...                []   \n",
       "9833        [semi bread, bottl water, soda, bottl beer]                []   \n",
       "9834  [chicken, tropic fruit, veget, vinegar, whip bag]                []   \n",
       "\n",
       "                    original basket + association items  \n",
       "0       [citru fruit, semi bread, margarin, readi soup]  \n",
       "1                         [tropic fruit, yogurt, coffe]  \n",
       "2                                          [whole milk]  \n",
       "3         [pie fruit, yogurt, cream chees, meat spread]  \n",
       "4     [veget, whole milk, condens milk, long lime bake]  \n",
       "...                                                 ...  \n",
       "9830  [sausag, chicken, beef, hamburg meat, citru fr...  \n",
       "9831                                      [cook chocol]  \n",
       "9832  [chicken, citru fruit, veget, butter, yogurt, ...  \n",
       "9833        [semi bread, bottl water, soda, bottl beer]  \n",
       "9834  [chicken, tropic fruit, veget, vinegar, whip bag]  \n",
       "\n",
       "[9835 rows x 3 columns]"
      ]
     },
     "execution_count": 89,
     "metadata": {},
     "output_type": "execute_result"
    }
   ],
   "source": [
    "groceries"
   ]
  },
  {
   "cell_type": "code",
   "execution_count": 90,
   "metadata": {},
   "outputs": [
    {
     "data": {
      "text/html": [
       "<div>\n",
       "<style scoped>\n",
       "    .dataframe tbody tr th:only-of-type {\n",
       "        vertical-align: middle;\n",
       "    }\n",
       "\n",
       "    .dataframe tbody tr th {\n",
       "        vertical-align: top;\n",
       "    }\n",
       "\n",
       "    .dataframe thead th {\n",
       "        text-align: right;\n",
       "    }\n",
       "</style>\n",
       "<table border=\"1\" class=\"dataframe\">\n",
       "  <thead>\n",
       "    <tr style=\"text-align: right;\">\n",
       "      <th></th>\n",
       "      <th>cuisine</th>\n",
       "      <th>ingredients</th>\n",
       "    </tr>\n",
       "  </thead>\n",
       "  <tbody>\n",
       "    <tr>\n",
       "      <th>0</th>\n",
       "      <td>greek</td>\n",
       "      <td>[romain lettuc, black oliv, grape tomato, garl...</td>\n",
       "    </tr>\n",
       "    <tr>\n",
       "      <th>1</th>\n",
       "      <td>southern_us</td>\n",
       "      <td>[plain flour, ground pepper, salt, tomato, gro...</td>\n",
       "    </tr>\n",
       "    <tr>\n",
       "      <th>2</th>\n",
       "      <td>filipino</td>\n",
       "      <td>[egg, pepper, salt, mayonais, cook oil, green ...</td>\n",
       "    </tr>\n",
       "    <tr>\n",
       "      <th>3</th>\n",
       "      <td>indian</td>\n",
       "      <td>[water, veget oil, wheat, salt]</td>\n",
       "    </tr>\n",
       "    <tr>\n",
       "      <th>4</th>\n",
       "      <td>indian</td>\n",
       "      <td>[black pepper, shallot, cornflour, cayenn pepp...</td>\n",
       "    </tr>\n",
       "    <tr>\n",
       "      <th>...</th>\n",
       "      <td>...</td>\n",
       "      <td>...</td>\n",
       "    </tr>\n",
       "    <tr>\n",
       "      <th>39769</th>\n",
       "      <td>irish</td>\n",
       "      <td>[light brown sugar, granul sugar, butter, warm...</td>\n",
       "    </tr>\n",
       "    <tr>\n",
       "      <th>39770</th>\n",
       "      <td>italian</td>\n",
       "      <td>[kraft zesti italian dress, purpl onion, brocc...</td>\n",
       "    </tr>\n",
       "    <tr>\n",
       "      <th>39771</th>\n",
       "      <td>irish</td>\n",
       "      <td>[egg, citru fruit, raisin, sourdough starter, ...</td>\n",
       "    </tr>\n",
       "    <tr>\n",
       "      <th>39772</th>\n",
       "      <td>chinese</td>\n",
       "      <td>[boneless chicken skinless thigh, minc garlic,...</td>\n",
       "    </tr>\n",
       "    <tr>\n",
       "      <th>39773</th>\n",
       "      <td>mexican</td>\n",
       "      <td>[green chile, jalapeno chili, onion, ground bl...</td>\n",
       "    </tr>\n",
       "  </tbody>\n",
       "</table>\n",
       "<p>39774 rows × 2 columns</p>\n",
       "</div>"
      ],
      "text/plain": [
       "           cuisine                                        ingredients\n",
       "0            greek  [romain lettuc, black oliv, grape tomato, garl...\n",
       "1      southern_us  [plain flour, ground pepper, salt, tomato, gro...\n",
       "2         filipino  [egg, pepper, salt, mayonais, cook oil, green ...\n",
       "3           indian                    [water, veget oil, wheat, salt]\n",
       "4           indian  [black pepper, shallot, cornflour, cayenn pepp...\n",
       "...            ...                                                ...\n",
       "39769        irish  [light brown sugar, granul sugar, butter, warm...\n",
       "39770      italian  [kraft zesti italian dress, purpl onion, brocc...\n",
       "39771        irish  [egg, citru fruit, raisin, sourdough starter, ...\n",
       "39772      chinese  [boneless chicken skinless thigh, minc garlic,...\n",
       "39773      mexican  [green chile, jalapeno chili, onion, ground bl...\n",
       "\n",
       "[39774 rows x 2 columns]"
      ]
     },
     "execution_count": 90,
     "metadata": {},
     "output_type": "execute_result"
    }
   ],
   "source": [
    "recipes"
   ]
  },
  {
   "cell_type": "code",
   "execution_count": 91,
   "metadata": {},
   "outputs": [],
   "source": [
    "lista_prova = [listToString(s) for s in groceries[\"original basket + association items\"]]\n",
    "groceries[\"document basket\"] = lista_prova"
   ]
  },
  {
   "cell_type": "code",
   "execution_count": 92,
   "metadata": {},
   "outputs": [],
   "source": [
    "lista_prova = [listToString(s) for s in recipes[\"ingredients\"]]\n",
    "recipes[\"ingredients\"] = lista_prova"
   ]
  },
  {
   "cell_type": "code",
   "execution_count": 93,
   "metadata": {},
   "outputs": [
    {
     "data": {
      "text/html": [
       "<div>\n",
       "<style scoped>\n",
       "    .dataframe tbody tr th:only-of-type {\n",
       "        vertical-align: middle;\n",
       "    }\n",
       "\n",
       "    .dataframe tbody tr th {\n",
       "        vertical-align: top;\n",
       "    }\n",
       "\n",
       "    .dataframe thead th {\n",
       "        text-align: right;\n",
       "    }\n",
       "</style>\n",
       "<table border=\"1\" class=\"dataframe\">\n",
       "  <thead>\n",
       "    <tr style=\"text-align: right;\">\n",
       "      <th></th>\n",
       "      <th>document basket</th>\n",
       "    </tr>\n",
       "  </thead>\n",
       "  <tbody>\n",
       "    <tr>\n",
       "      <th>0</th>\n",
       "      <td>citru fruit semi bread margarin readi soup</td>\n",
       "    </tr>\n",
       "    <tr>\n",
       "      <th>1</th>\n",
       "      <td>tropic fruit yogurt coffe</td>\n",
       "    </tr>\n",
       "    <tr>\n",
       "      <th>2</th>\n",
       "      <td>whole milk</td>\n",
       "    </tr>\n",
       "    <tr>\n",
       "      <th>3</th>\n",
       "      <td>pie fruit yogurt cream chees meat spread</td>\n",
       "    </tr>\n",
       "    <tr>\n",
       "      <th>4</th>\n",
       "      <td>veget whole milk condens milk long lime bake</td>\n",
       "    </tr>\n",
       "    <tr>\n",
       "      <th>...</th>\n",
       "      <td>...</td>\n",
       "    </tr>\n",
       "    <tr>\n",
       "      <th>9830</th>\n",
       "      <td>sausag chicken beef hamburg meat citru fruit g...</td>\n",
       "    </tr>\n",
       "    <tr>\n",
       "      <th>9831</th>\n",
       "      <td>cook chocol</td>\n",
       "    </tr>\n",
       "    <tr>\n",
       "      <th>9832</th>\n",
       "      <td>chicken citru fruit veget butter yogurt frozen...</td>\n",
       "    </tr>\n",
       "    <tr>\n",
       "      <th>9833</th>\n",
       "      <td>semi bread bottl water soda bottl beer</td>\n",
       "    </tr>\n",
       "    <tr>\n",
       "      <th>9834</th>\n",
       "      <td>chicken tropic fruit veget vinegar whip bag</td>\n",
       "    </tr>\n",
       "  </tbody>\n",
       "</table>\n",
       "<p>9835 rows × 1 columns</p>\n",
       "</div>"
      ],
      "text/plain": [
       "                                        document basket\n",
       "0            citru fruit semi bread margarin readi soup\n",
       "1                             tropic fruit yogurt coffe\n",
       "2                                            whole milk\n",
       "3              pie fruit yogurt cream chees meat spread\n",
       "4          veget whole milk condens milk long lime bake\n",
       "...                                                 ...\n",
       "9830  sausag chicken beef hamburg meat citru fruit g...\n",
       "9831                                        cook chocol\n",
       "9832  chicken citru fruit veget butter yogurt frozen...\n",
       "9833             semi bread bottl water soda bottl beer\n",
       "9834        chicken tropic fruit veget vinegar whip bag\n",
       "\n",
       "[9835 rows x 1 columns]"
      ]
     },
     "execution_count": 93,
     "metadata": {},
     "output_type": "execute_result"
    }
   ],
   "source": [
    "groceries.drop([\"original basket\", \"association items\", \"original basket + association items\"], axis = 1)"
   ]
  },
  {
   "cell_type": "code",
   "execution_count": 94,
   "metadata": {},
   "outputs": [],
   "source": [
    "groceries_documents = groceries[\"document basket\"].values.tolist()"
   ]
  },
  {
   "cell_type": "code",
   "execution_count": 95,
   "metadata": {},
   "outputs": [],
   "source": [
    "chunks =500"
   ]
  },
  {
   "cell_type": "code",
   "execution_count": 96,
   "metadata": {},
   "outputs": [],
   "source": [
    "chunks_documents = [groceries_documents[i:i + chunks] for i in range(0, len(groceries_documents), chunks)]"
   ]
  },
  {
   "cell_type": "code",
   "execution_count": 97,
   "metadata": {},
   "outputs": [
    {
     "data": {
      "text/plain": [
       "20"
      ]
     },
     "execution_count": 97,
     "metadata": {},
     "output_type": "execute_result"
    }
   ],
   "source": [
    "len(chunks_documents)"
   ]
  },
  {
   "cell_type": "code",
   "execution_count": 98,
   "metadata": {},
   "outputs": [],
   "source": [
    "def createAndSaveDataframeImproved(input_documents, temp_name):\n",
    "    n = 12\n",
    "    \n",
    "    final_dataframe = pd.DataFrame()\n",
    "    for recipe_name in cuisine_name:\n",
    "        cv=CountVectorizer()\n",
    "        tfidf_transformer=TfidfTransformer(norm= None ,smooth_idf=False,use_idf=True,sublinear_tf=False)\n",
    "        #GET THE TF-IDF OF THE X MATRIX\n",
    "        #count\n",
    "        word_count_vector=cv.fit_transform(dict_recipes[recipe_name])\n",
    "        list_count = word_count_vector.toarray()\n",
    "        #check no division by 0\n",
    "        b = list_count.max(axis=1)[:,None]\n",
    "        b[b==0] = 1\n",
    "        \n",
    "        resulting_count = list_count / b\n",
    "        #learn the idf\n",
    "        tf_idf = tfidf_transformer.fit(resulting_count)        \n",
    "        tf_idf.idf_ = tf_idf.idf_ - 1\n",
    "        X = tf_idf.transform(resulting_count)\n",
    "        \n",
    "        #GET THE TF-IDF OF THE Y MATRIX\n",
    "        \n",
    "        word_count_vector_y = cv.transform(input_documents)\n",
    "        word_count_vector_y_array = word_count_vector_y.toarray()\n",
    "        #Check no division by 0\n",
    "        c = word_count_vector_y_array.max(axis=1)[:,None]\n",
    "        c[c==0] = 1\n",
    "        word_count_vector_y_result = word_count_vector_y_array / c\n",
    "        Y = tf_idf.transform(word_count_vector_y_result)\n",
    "        \n",
    "        #vectorizer = TfidfVectorizer(norm='l2', use_idf=True, smooth_idf=True, sublinear_tf=False)\n",
    "        #X = vectorizer.fit_transform(dict_recipes[recipe_name])\n",
    "        #Y = vectorizer.transform(input_documents)\n",
    "        # iterate through rows:\n",
    "        cosine_result = cosine_similarity(X,Y)\n",
    "        dataframe_cosine = pd.DataFrame(cosine_result)\n",
    "        \n",
    "        #dataframe_cosine = dataframe_cosine.loc[~(dataframe_cosine==0).all(axis=1)]\n",
    "        \n",
    "        s = dataframe_cosine.T\n",
    "        s[\"index\"] = s.index\n",
    "        cols = s.columns.tolist()\n",
    "        cols = cols[-1:] + cols[:-1]\n",
    "        s=s[cols]\n",
    "        \n",
    "        list_cuisine=[]\n",
    "        for i in range(n):\n",
    "            list_cuisine.append(recipe_name)\n",
    "        new_d = [list(zip(repeat(row[\"index\"]), map(it(0), sorted(row[1:].iteritems(), key=it(1) ,reverse=1)[:n]),list_cuisine))\n",
    "                    for _, row  in s.iterrows()]\n",
    "        \n",
    "\n",
    "        result_cosine = pd.DataFrame([[( input_documents[int(i)] ,cuisine, dict_recipes_true_name[recipe_name][j],dataframe_cosine[i][j]) for i,j,cuisine in s] for s in new_d]).T\n",
    "        final_dataframe = pd.DataFrame.append(final_dataframe,result_cosine)\n",
    "        \n",
    "    \n",
    "    temp_list = [sorted(s,key=itemgetter(3), reverse = True)[:10] for s in final_dataframe.T.values.tolist()]\n",
    "    final_dataframe= pd.DataFrame(temp_list)\n",
    "    final_dataframe.to_csv(temp_name, index=False)"
   ]
  },
  {
   "cell_type": "code",
   "execution_count": 99,
   "metadata": {},
   "outputs": [],
   "source": [
    "index = 0\n",
    "input_dataframes = []\n",
    "for i in chunks_documents:\n",
    "    temp_name = \"./tempResults/\"+str(index)+\".csv\"\n",
    "    createAndSaveDataframeImproved(i, temp_name)\n",
    "    #input_dataframes.append(createAndSaveDataframe(i))\n",
    "    index+=1\n",
    "#appended_data = pd.concat(input_dataframes)\n",
    "#appended_data.to_csv(\"test.csv\")"
   ]
  },
  {
   "cell_type": "code",
   "execution_count": 100,
   "metadata": {},
   "outputs": [],
   "source": [
    "#Collect all the csv files generated in tempResults\n",
    "extension = 'csv'\n",
    "#Be warned that all_filenames is disorganized list of the files \n",
    "all_filenames = [i for i in glob.glob('./tempResults/*.{}'.format(extension))]"
   ]
  },
  {
   "cell_type": "code",
   "execution_count": 101,
   "metadata": {},
   "outputs": [
    {
     "data": {
      "text/plain": [
       "['./tempResults\\\\0.csv',\n",
       " './tempResults\\\\1.csv',\n",
       " './tempResults\\\\10.csv',\n",
       " './tempResults\\\\11.csv',\n",
       " './tempResults\\\\12.csv',\n",
       " './tempResults\\\\13.csv',\n",
       " './tempResults\\\\14.csv',\n",
       " './tempResults\\\\15.csv',\n",
       " './tempResults\\\\16.csv',\n",
       " './tempResults\\\\17.csv',\n",
       " './tempResults\\\\18.csv',\n",
       " './tempResults\\\\19.csv',\n",
       " './tempResults\\\\2.csv',\n",
       " './tempResults\\\\3.csv',\n",
       " './tempResults\\\\4.csv',\n",
       " './tempResults\\\\5.csv',\n",
       " './tempResults\\\\6.csv',\n",
       " './tempResults\\\\7.csv',\n",
       " './tempResults\\\\8.csv',\n",
       " './tempResults\\\\9.csv']"
      ]
     },
     "execution_count": 101,
     "metadata": {},
     "output_type": "execute_result"
    }
   ],
   "source": [
    "all_filenames"
   ]
  },
  {
   "cell_type": "code",
   "execution_count": 102,
   "metadata": {},
   "outputs": [],
   "source": [
    "#combine all files in the list\n",
    "combined_csv = pd.concat([pd.read_csv(f) for f in all_filenames ])\n",
    "#export to csv\n",
    "combined_csv.to_csv( \"resultTFIDF.csv\", index=False)"
   ]
  },
  {
   "cell_type": "code",
   "execution_count": 103,
   "metadata": {},
   "outputs": [],
   "source": [
    "#math.log(5/1) IDF use ln_e i guess?"
   ]
  },
  {
   "cell_type": "code",
   "execution_count": 104,
   "metadata": {},
   "outputs": [],
   "source": [
    "conv = {}\n",
    "for i in range(10):\n",
    "    conv[i] = ast.literal_eval"
   ]
  },
  {
   "cell_type": "code",
   "execution_count": 105,
   "metadata": {},
   "outputs": [
    {
     "data": {
      "text/plain": [
       "{0: <function ast.literal_eval(node_or_string)>,\n",
       " 1: <function ast.literal_eval(node_or_string)>,\n",
       " 2: <function ast.literal_eval(node_or_string)>,\n",
       " 3: <function ast.literal_eval(node_or_string)>,\n",
       " 4: <function ast.literal_eval(node_or_string)>,\n",
       " 5: <function ast.literal_eval(node_or_string)>,\n",
       " 6: <function ast.literal_eval(node_or_string)>,\n",
       " 7: <function ast.literal_eval(node_or_string)>,\n",
       " 8: <function ast.literal_eval(node_or_string)>,\n",
       " 9: <function ast.literal_eval(node_or_string)>}"
      ]
     },
     "execution_count": 105,
     "metadata": {},
     "output_type": "execute_result"
    }
   ],
   "source": [
    "conv"
   ]
  },
  {
   "cell_type": "code",
   "execution_count": 106,
   "metadata": {},
   "outputs": [],
   "source": [
    "#combined_csv = pd.read_csv(\"resultTFIDF.csv\", converters={\"0\": ast.literal_eval, \"1\": ast.literal_eval, \"0\": ast.literal_eval})\n",
    "combined_csv = pd.read_csv(\"resultTFIDF.csv\", converters=conv)"
   ]
  },
  {
   "cell_type": "code",
   "execution_count": 107,
   "metadata": {},
   "outputs": [
    {
     "data": {
      "text/html": [
       "<div>\n",
       "<style scoped>\n",
       "    .dataframe tbody tr th:only-of-type {\n",
       "        vertical-align: middle;\n",
       "    }\n",
       "\n",
       "    .dataframe tbody tr th {\n",
       "        vertical-align: top;\n",
       "    }\n",
       "\n",
       "    .dataframe thead th {\n",
       "        text-align: right;\n",
       "    }\n",
       "</style>\n",
       "<table border=\"1\" class=\"dataframe\">\n",
       "  <thead>\n",
       "    <tr style=\"text-align: right;\">\n",
       "      <th></th>\n",
       "      <th>0</th>\n",
       "      <th>1</th>\n",
       "      <th>2</th>\n",
       "      <th>3</th>\n",
       "      <th>4</th>\n",
       "      <th>5</th>\n",
       "      <th>6</th>\n",
       "      <th>7</th>\n",
       "      <th>8</th>\n",
       "      <th>9</th>\n",
       "    </tr>\n",
       "  </thead>\n",
       "  <tbody>\n",
       "    <tr>\n",
       "      <th>0</th>\n",
       "      <td>(citru fruit semi bread margarin readi soup, k...</td>\n",
       "      <td>(citru fruit semi bread margarin readi soup, t...</td>\n",
       "      <td>(citru fruit semi bread margarin readi soup, k...</td>\n",
       "      <td>(citru fruit semi bread margarin readi soup, j...</td>\n",
       "      <td>(citru fruit semi bread margarin readi soup, t...</td>\n",
       "      <td>(citru fruit semi bread margarin readi soup, k...</td>\n",
       "      <td>(citru fruit semi bread margarin readi soup, v...</td>\n",
       "      <td>(citru fruit semi bread margarin readi soup, f...</td>\n",
       "      <td>(citru fruit semi bread margarin readi soup, f...</td>\n",
       "      <td>(citru fruit semi bread margarin readi soup, f...</td>\n",
       "    </tr>\n",
       "    <tr>\n",
       "      <th>1</th>\n",
       "      <td>(tropic fruit yogurt coffe, french, larg egg y...</td>\n",
       "      <td>(tropic fruit yogurt coffe, mexican, oliv oil,...</td>\n",
       "      <td>(tropic fruit yogurt coffe, greek, coffe, suga...</td>\n",
       "      <td>(tropic fruit yogurt coffe, british, cream, co...</td>\n",
       "      <td>(tropic fruit yogurt coffe, italian, tropic fr...</td>\n",
       "      <td>(tropic fruit yogurt coffe, indian, water, coc...</td>\n",
       "      <td>(tropic fruit yogurt coffe, cajun_creole, wate...</td>\n",
       "      <td>(tropic fruit yogurt coffe, southern_us, milk,...</td>\n",
       "      <td>(tropic fruit yogurt coffe, indian, cardamom p...</td>\n",
       "      <td>(tropic fruit yogurt coffe, filipino, fruit, w...</td>\n",
       "    </tr>\n",
       "    <tr>\n",
       "      <th>2</th>\n",
       "      <td>(whole milk, russian, lemon, salt, whole milk,...</td>\n",
       "      <td>(whole milk, indian, lemon juic, whole milk, 0...</td>\n",
       "      <td>(whole milk, indian, whole milk, lemon juic, s...</td>\n",
       "      <td>(whole milk, indian, salt, lemon juic, whole m...</td>\n",
       "      <td>(whole milk, indian, whole milk, lime, 0.77353...</td>\n",
       "      <td>(whole milk, indian, fresh lemon juic, whole m...</td>\n",
       "      <td>(whole milk, indian, fresh lemon juic, whole m...</td>\n",
       "      <td>(whole milk, southern_us, sugar, salt, bake po...</td>\n",
       "      <td>(whole milk, french, larg egg, sugar, purpos f...</td>\n",
       "      <td>(whole milk, french, whole milk, unsalt butter...</td>\n",
       "    </tr>\n",
       "    <tr>\n",
       "      <th>3</th>\n",
       "      <td>(pie fruit yogurt cream chees meat spread, fil...</td>\n",
       "      <td>(pie fruit yogurt cream chees meat spread, ind...</td>\n",
       "      <td>(pie fruit yogurt cream chees meat spread, sou...</td>\n",
       "      <td>(pie fruit yogurt cream chees meat spread, fil...</td>\n",
       "      <td>(pie fruit yogurt cream chees meat spread, rus...</td>\n",
       "      <td>(pie fruit yogurt cream chees meat spread, spa...</td>\n",
       "      <td>(pie fruit yogurt cream chees meat spread, bri...</td>\n",
       "      <td>(pie fruit yogurt cream chees meat spread, mex...</td>\n",
       "      <td>(pie fruit yogurt cream chees meat spread, sou...</td>\n",
       "      <td>(pie fruit yogurt cream chees meat spread, rus...</td>\n",
       "    </tr>\n",
       "    <tr>\n",
       "      <th>4</th>\n",
       "      <td>(veget whole milk condens milk long lime bake,...</td>\n",
       "      <td>(veget whole milk condens milk long lime bake,...</td>\n",
       "      <td>(veget whole milk condens milk long lime bake,...</td>\n",
       "      <td>(veget whole milk condens milk long lime bake,...</td>\n",
       "      <td>(veget whole milk condens milk long lime bake,...</td>\n",
       "      <td>(veget whole milk condens milk long lime bake,...</td>\n",
       "      <td>(veget whole milk condens milk long lime bake,...</td>\n",
       "      <td>(veget whole milk condens milk long lime bake,...</td>\n",
       "      <td>(veget whole milk condens milk long lime bake,...</td>\n",
       "      <td>(veget whole milk condens milk long lime bake,...</td>\n",
       "    </tr>\n",
       "    <tr>\n",
       "      <th>...</th>\n",
       "      <td>...</td>\n",
       "      <td>...</td>\n",
       "      <td>...</td>\n",
       "      <td>...</td>\n",
       "      <td>...</td>\n",
       "      <td>...</td>\n",
       "      <td>...</td>\n",
       "      <td>...</td>\n",
       "      <td>...</td>\n",
       "      <td>...</td>\n",
       "    </tr>\n",
       "    <tr>\n",
       "      <th>9830</th>\n",
       "      <td>(frankfurt tropic fruit veget roll bun bottl w...</td>\n",
       "      <td>(frankfurt tropic fruit veget roll bun bottl w...</td>\n",
       "      <td>(frankfurt tropic fruit veget roll bun bottl w...</td>\n",
       "      <td>(frankfurt tropic fruit veget roll bun bottl w...</td>\n",
       "      <td>(frankfurt tropic fruit veget roll bun bottl w...</td>\n",
       "      <td>(frankfurt tropic fruit veget roll bun bottl w...</td>\n",
       "      <td>(frankfurt tropic fruit veget roll bun bottl w...</td>\n",
       "      <td>(frankfurt tropic fruit veget roll bun bottl w...</td>\n",
       "      <td>(frankfurt tropic fruit veget roll bun bottl w...</td>\n",
       "      <td>(frankfurt tropic fruit veget roll bun bottl w...</td>\n",
       "    </tr>\n",
       "    <tr>\n",
       "      <th>9831</th>\n",
       "      <td>(hamburg meat veget pickl veget, russian, fres...</td>\n",
       "      <td>(hamburg meat veget pickl veget, mexican, vege...</td>\n",
       "      <td>(hamburg meat veget pickl veget, chinese, soy ...</td>\n",
       "      <td>(hamburg meat veget pickl veget, mexican, garl...</td>\n",
       "      <td>(hamburg meat veget pickl veget, mexican, red ...</td>\n",
       "      <td>(hamburg meat veget pickl veget, southern_us, ...</td>\n",
       "      <td>(hamburg meat veget pickl veget, mexican, pork...</td>\n",
       "      <td>(hamburg meat veget pickl veget, russian, whit...</td>\n",
       "      <td>(hamburg meat veget pickl veget, irish, veget ...</td>\n",
       "      <td>(hamburg meat veget pickl veget, mexican, wate...</td>\n",
       "    </tr>\n",
       "    <tr>\n",
       "      <th>9832</th>\n",
       "      <td>(white wine, french, dri white wine, salt, whi...</td>\n",
       "      <td>(white wine, thai, fish sauc, lime juic, soy s...</td>\n",
       "      <td>(white wine, french, black peppercorn, white w...</td>\n",
       "      <td>(white wine, indian, chili flake, red bell pep...</td>\n",
       "      <td>(white wine, indian, port wine, fresh ginger, ...</td>\n",
       "      <td>(white wine, thai, oliv oil, boneless skinless...</td>\n",
       "      <td>(white wine, indian, fresh ginger, curri powde...</td>\n",
       "      <td>(white wine, mexican, chop cilantro fresh, whi...</td>\n",
       "      <td>(white wine, french, egg, dri mustard, white v...</td>\n",
       "      <td>(white wine, japanese, cook wine, water, soy s...</td>\n",
       "    </tr>\n",
       "    <tr>\n",
       "      <th>9833</th>\n",
       "      <td>(pack fruit veget pastri, russian, dri fruit, ...</td>\n",
       "      <td>(pack fruit veget pastri, southern_us, milk, s...</td>\n",
       "      <td>(pack fruit veget pastri, french, milk, purpos...</td>\n",
       "      <td>(pack fruit veget pastri, southern_us, shorten...</td>\n",
       "      <td>(pack fruit veget pastri, indian, water, cocon...</td>\n",
       "      <td>(pack fruit veget pastri, filipino, fruit, wat...</td>\n",
       "      <td>(pack fruit veget pastri, mexican, water, firm...</td>\n",
       "      <td>(pack fruit veget pastri, korean, black pepper...</td>\n",
       "      <td>(pack fruit veget pastri, moroccan, firmli pac...</td>\n",
       "      <td>(pack fruit veget pastri, thai, fruit, sugar, ...</td>\n",
       "    </tr>\n",
       "    <tr>\n",
       "      <th>9834</th>\n",
       "      <td>(special bar, french, butter, chocol bar, whip...</td>\n",
       "      <td>(special bar, french, whip cream, chocol bake ...</td>\n",
       "      <td>(special bar, french, chocol bake bar, instant...</td>\n",
       "      <td>(special bar, italian, candi bar, purpos flour...</td>\n",
       "      <td>(special bar, southern_us, melt butter, whip c...</td>\n",
       "      <td>(special bar, mexican, honey, corn starch, cho...</td>\n",
       "      <td>(special bar, italian, egg, vanilla extract, w...</td>\n",
       "      <td>(special bar, italian, chocol bar, brew espres...</td>\n",
       "      <td>(special bar, southern_us, mini marshmallow, s...</td>\n",
       "      <td>(special bar, mexican, chocol bar, marshmallow...</td>\n",
       "    </tr>\n",
       "  </tbody>\n",
       "</table>\n",
       "<p>9835 rows × 10 columns</p>\n",
       "</div>"
      ],
      "text/plain": [
       "                                                      0  \\\n",
       "0     (citru fruit semi bread margarin readi soup, k...   \n",
       "1     (tropic fruit yogurt coffe, french, larg egg y...   \n",
       "2     (whole milk, russian, lemon, salt, whole milk,...   \n",
       "3     (pie fruit yogurt cream chees meat spread, fil...   \n",
       "4     (veget whole milk condens milk long lime bake,...   \n",
       "...                                                 ...   \n",
       "9830  (frankfurt tropic fruit veget roll bun bottl w...   \n",
       "9831  (hamburg meat veget pickl veget, russian, fres...   \n",
       "9832  (white wine, french, dri white wine, salt, whi...   \n",
       "9833  (pack fruit veget pastri, russian, dri fruit, ...   \n",
       "9834  (special bar, french, butter, chocol bar, whip...   \n",
       "\n",
       "                                                      1  \\\n",
       "0     (citru fruit semi bread margarin readi soup, t...   \n",
       "1     (tropic fruit yogurt coffe, mexican, oliv oil,...   \n",
       "2     (whole milk, indian, lemon juic, whole milk, 0...   \n",
       "3     (pie fruit yogurt cream chees meat spread, ind...   \n",
       "4     (veget whole milk condens milk long lime bake,...   \n",
       "...                                                 ...   \n",
       "9830  (frankfurt tropic fruit veget roll bun bottl w...   \n",
       "9831  (hamburg meat veget pickl veget, mexican, vege...   \n",
       "9832  (white wine, thai, fish sauc, lime juic, soy s...   \n",
       "9833  (pack fruit veget pastri, southern_us, milk, s...   \n",
       "9834  (special bar, french, whip cream, chocol bake ...   \n",
       "\n",
       "                                                      2  \\\n",
       "0     (citru fruit semi bread margarin readi soup, k...   \n",
       "1     (tropic fruit yogurt coffe, greek, coffe, suga...   \n",
       "2     (whole milk, indian, whole milk, lemon juic, s...   \n",
       "3     (pie fruit yogurt cream chees meat spread, sou...   \n",
       "4     (veget whole milk condens milk long lime bake,...   \n",
       "...                                                 ...   \n",
       "9830  (frankfurt tropic fruit veget roll bun bottl w...   \n",
       "9831  (hamburg meat veget pickl veget, chinese, soy ...   \n",
       "9832  (white wine, french, black peppercorn, white w...   \n",
       "9833  (pack fruit veget pastri, french, milk, purpos...   \n",
       "9834  (special bar, french, chocol bake bar, instant...   \n",
       "\n",
       "                                                      3  \\\n",
       "0     (citru fruit semi bread margarin readi soup, j...   \n",
       "1     (tropic fruit yogurt coffe, british, cream, co...   \n",
       "2     (whole milk, indian, salt, lemon juic, whole m...   \n",
       "3     (pie fruit yogurt cream chees meat spread, fil...   \n",
       "4     (veget whole milk condens milk long lime bake,...   \n",
       "...                                                 ...   \n",
       "9830  (frankfurt tropic fruit veget roll bun bottl w...   \n",
       "9831  (hamburg meat veget pickl veget, mexican, garl...   \n",
       "9832  (white wine, indian, chili flake, red bell pep...   \n",
       "9833  (pack fruit veget pastri, southern_us, shorten...   \n",
       "9834  (special bar, italian, candi bar, purpos flour...   \n",
       "\n",
       "                                                      4  \\\n",
       "0     (citru fruit semi bread margarin readi soup, t...   \n",
       "1     (tropic fruit yogurt coffe, italian, tropic fr...   \n",
       "2     (whole milk, indian, whole milk, lime, 0.77353...   \n",
       "3     (pie fruit yogurt cream chees meat spread, rus...   \n",
       "4     (veget whole milk condens milk long lime bake,...   \n",
       "...                                                 ...   \n",
       "9830  (frankfurt tropic fruit veget roll bun bottl w...   \n",
       "9831  (hamburg meat veget pickl veget, mexican, red ...   \n",
       "9832  (white wine, indian, port wine, fresh ginger, ...   \n",
       "9833  (pack fruit veget pastri, indian, water, cocon...   \n",
       "9834  (special bar, southern_us, melt butter, whip c...   \n",
       "\n",
       "                                                      5  \\\n",
       "0     (citru fruit semi bread margarin readi soup, k...   \n",
       "1     (tropic fruit yogurt coffe, indian, water, coc...   \n",
       "2     (whole milk, indian, fresh lemon juic, whole m...   \n",
       "3     (pie fruit yogurt cream chees meat spread, spa...   \n",
       "4     (veget whole milk condens milk long lime bake,...   \n",
       "...                                                 ...   \n",
       "9830  (frankfurt tropic fruit veget roll bun bottl w...   \n",
       "9831  (hamburg meat veget pickl veget, southern_us, ...   \n",
       "9832  (white wine, thai, oliv oil, boneless skinless...   \n",
       "9833  (pack fruit veget pastri, filipino, fruit, wat...   \n",
       "9834  (special bar, mexican, honey, corn starch, cho...   \n",
       "\n",
       "                                                      6  \\\n",
       "0     (citru fruit semi bread margarin readi soup, v...   \n",
       "1     (tropic fruit yogurt coffe, cajun_creole, wate...   \n",
       "2     (whole milk, indian, fresh lemon juic, whole m...   \n",
       "3     (pie fruit yogurt cream chees meat spread, bri...   \n",
       "4     (veget whole milk condens milk long lime bake,...   \n",
       "...                                                 ...   \n",
       "9830  (frankfurt tropic fruit veget roll bun bottl w...   \n",
       "9831  (hamburg meat veget pickl veget, mexican, pork...   \n",
       "9832  (white wine, indian, fresh ginger, curri powde...   \n",
       "9833  (pack fruit veget pastri, mexican, water, firm...   \n",
       "9834  (special bar, italian, egg, vanilla extract, w...   \n",
       "\n",
       "                                                      7  \\\n",
       "0     (citru fruit semi bread margarin readi soup, f...   \n",
       "1     (tropic fruit yogurt coffe, southern_us, milk,...   \n",
       "2     (whole milk, southern_us, sugar, salt, bake po...   \n",
       "3     (pie fruit yogurt cream chees meat spread, mex...   \n",
       "4     (veget whole milk condens milk long lime bake,...   \n",
       "...                                                 ...   \n",
       "9830  (frankfurt tropic fruit veget roll bun bottl w...   \n",
       "9831  (hamburg meat veget pickl veget, russian, whit...   \n",
       "9832  (white wine, mexican, chop cilantro fresh, whi...   \n",
       "9833  (pack fruit veget pastri, korean, black pepper...   \n",
       "9834  (special bar, italian, chocol bar, brew espres...   \n",
       "\n",
       "                                                      8  \\\n",
       "0     (citru fruit semi bread margarin readi soup, f...   \n",
       "1     (tropic fruit yogurt coffe, indian, cardamom p...   \n",
       "2     (whole milk, french, larg egg, sugar, purpos f...   \n",
       "3     (pie fruit yogurt cream chees meat spread, sou...   \n",
       "4     (veget whole milk condens milk long lime bake,...   \n",
       "...                                                 ...   \n",
       "9830  (frankfurt tropic fruit veget roll bun bottl w...   \n",
       "9831  (hamburg meat veget pickl veget, irish, veget ...   \n",
       "9832  (white wine, french, egg, dri mustard, white v...   \n",
       "9833  (pack fruit veget pastri, moroccan, firmli pac...   \n",
       "9834  (special bar, southern_us, mini marshmallow, s...   \n",
       "\n",
       "                                                      9  \n",
       "0     (citru fruit semi bread margarin readi soup, f...  \n",
       "1     (tropic fruit yogurt coffe, filipino, fruit, w...  \n",
       "2     (whole milk, french, whole milk, unsalt butter...  \n",
       "3     (pie fruit yogurt cream chees meat spread, rus...  \n",
       "4     (veget whole milk condens milk long lime bake,...  \n",
       "...                                                 ...  \n",
       "9830  (frankfurt tropic fruit veget roll bun bottl w...  \n",
       "9831  (hamburg meat veget pickl veget, mexican, wate...  \n",
       "9832  (white wine, japanese, cook wine, water, soy s...  \n",
       "9833  (pack fruit veget pastri, thai, fruit, sugar, ...  \n",
       "9834  (special bar, mexican, chocol bar, marshmallow...  \n",
       "\n",
       "[9835 rows x 10 columns]"
      ]
     },
     "execution_count": 107,
     "metadata": {},
     "output_type": "execute_result"
    }
   ],
   "source": [
    "combined_csv"
   ]
  },
  {
   "cell_type": "code",
   "execution_count": 108,
   "metadata": {},
   "outputs": [],
   "source": [
    "#combined_csv2 = pd.read_csv(\"resultTFIDFStem.csv\", converters={\"0\": ast.literal_eval})"
   ]
  },
  {
   "cell_type": "code",
   "execution_count": 109,
   "metadata": {},
   "outputs": [],
   "source": [
    "#Input : index of the element, the most N common in the column\n",
    "def customerProfiling(index, index_common):\n",
    "    out = [recipe for basket,cuisine,recipe,cosine in combined_csv[\"\"+str(index)+\"\"] ] \n",
    "    recipes_common = Counter(out)\n",
    "    recipes_looking, value_cos = recipes_common.most_common(40)[index_common]\n",
    "    output = defaultdict(float) \n",
    "    for b, c, r, cos in combined_csv[\"\"+str(index)+\"\"]: \n",
    "        output[r] += cos \n",
    "    return [(recipe, cos/value_cos) for recipe,cos in list(output.items()) if recipe == recipes_looking] "
   ]
  },
  {
   "cell_type": "code",
   "execution_count": 110,
   "metadata": {},
   "outputs": [
    {
     "data": {
      "text/plain": [
       "[('milk, purpos flour, cook oil, salt, larg egg, beer', 0.613806976012385)]"
      ]
     },
     "execution_count": 110,
     "metadata": {},
     "output_type": "execute_result"
    }
   ],
   "source": [
    "customerProfiling(1,0)"
   ]
  },
  {
   "cell_type": "code",
   "execution_count": 111,
   "metadata": {},
   "outputs": [],
   "source": [
    "totalProfiles= []\n",
    "for n in range(numberOfProfiles):\n",
    "    customerProfiles = []\n",
    "    for i in range(4):\n",
    "        result = customerProfiling(i,n)[0]\n",
    "        customerProfiles.append(result)\n",
    "    totalProfiles.append(customerProfiles)"
   ]
  },
  {
   "cell_type": "code",
   "execution_count": 112,
   "metadata": {},
   "outputs": [
    {
     "data": {
      "text/plain": [
       "[[('butter, yeast, purpos flour, salt, sugar, beer', 0.6101406967573048),\n",
       "  ('milk, purpos flour, cook oil, salt, larg egg, beer', 0.613806976012385),\n",
       "  ('ground black pepper, garlic, dri thyme, butter, carrot, can low sodium chicken broth, bake potato, salt, veget, heavi cream, onion',\n",
       "   0.5515347423961969),\n",
       "  ('soy sauc, green onion, long grain rice, chuck roast, veget oil, water, sesam oil, toast sesam seed, lettuc leav, beer',\n",
       "   0.5227788362144279)],\n",
       " [('water, coconut, sugar, salt, fruit, rice flour', 0.6193049272802615),\n",
       "  ('vanilla, oil, whole milk, cream chees, roll, sour cream, whip cream, condens milk',\n",
       "   0.5164836594073257),\n",
       "  ('milk, purpos flour, cook oil, salt, larg egg, beer', 0.5243538000384562),\n",
       "  ('marmit, onion, chees, bun, toast', 0.48745347990869076)],\n",
       " [('vanilla, oil, whole milk, cream chees, roll, sour cream, whip cream, condens milk',\n",
       "   0.5374519818510719),\n",
       "  ('water, coconut, sugar, salt, fruit, rice flour', 0.5903719551567298),\n",
       "  ('buttermilk, whole wheat flour, bread flour, roll oat, salt, bake soda',\n",
       "   0.5203838791556067),\n",
       "  ('milk, sugar, butter, fruit, self rise flour', 0.5572245696378347)],\n",
       " [('light soy sauc, rice wine, white sugar, pork, ground black pepper, salt, bun, fresh ginger root, veget oil, water, green onion, shrimp',\n",
       "   0.5728218439904657),\n",
       "  ('larg egg yolk, vanilla bean, whip cream, tropic fruit, sugar, peel fresh ginger',\n",
       "   0.5460890980651679),\n",
       "  ('water, coconut, sugar, salt, fruit, rice flour', 0.5224390306396149),\n",
       "  ('lime zest, lime leav, lemon zest, lemongrass, soda water',\n",
       "   0.6144757800969906)]]"
      ]
     },
     "execution_count": 112,
     "metadata": {},
     "output_type": "execute_result"
    }
   ],
   "source": [
    "totalProfiles"
   ]
  },
  {
   "cell_type": "code",
   "execution_count": 113,
   "metadata": {},
   "outputs": [
    {
     "name": "stdout",
     "output_type": "stream",
     "text": [
      "--- 436.02601504325867 seconds ---\n"
     ]
    }
   ],
   "source": [
    "print(\"--- %s seconds ---\" % (time.time() - start_time))"
   ]
  },
  {
   "cell_type": "code",
   "execution_count": 114,
   "metadata": {},
   "outputs": [],
   "source": [
    "#Delete all files in tempreResults directory\n",
    "filelist = glob.glob(os.path.join(\"./tempResults/\", \"*.csv\"))\n",
    "for f in filelist:\n",
    "    os.remove(f)"
   ]
  },
  {
   "cell_type": "markdown",
   "metadata": {},
   "source": [
    "# Create finalReport"
   ]
  },
  {
   "cell_type": "code",
   "execution_count": 115,
   "metadata": {},
   "outputs": [],
   "source": [
    "f=open('finalReport.txt','w')\n",
    "index_write = 1\n",
    "f.write(\"Customer profiling based on cosine similarity score\\n\")\n",
    "f.write(\"Max number of recipes per profile: 4\\n\\n\\n\\n\")\n",
    "for profile in totalProfiles:\n",
    "    index_recipe = 1\n",
    "    f.write(\"Customer Profile \"+ str(index_write))\n",
    "    f.write(\"\\n\")\n",
    "    f.write(\"We have customers who plan to make the following recipes :\\n\")\n",
    "    for elem in profile:\n",
    "        recipe, cosine = elem\n",
    "        f.write(str(index_recipe) + \") \" + recipe + \" (Avg.Score: \"+ str(cosine)+ \")\\n\")\n",
    "        index_recipe+=1\n",
    "    f.write(\"\\n\\n\\n\\n\")\n",
    "    index_write+=1\n",
    "f.close()"
   ]
  },
  {
   "cell_type": "code",
   "execution_count": null,
   "metadata": {},
   "outputs": [],
   "source": []
  }
 ],
 "metadata": {
  "kernelspec": {
   "display_name": "Python 3",
   "language": "python",
   "name": "python3"
  },
  "language_info": {
   "codemirror_mode": {
    "name": "ipython",
    "version": 3
   },
   "file_extension": ".py",
   "mimetype": "text/x-python",
   "name": "python",
   "nbconvert_exporter": "python",
   "pygments_lexer": "ipython3",
   "version": "3.7.5"
  }
 },
 "nbformat": 4,
 "nbformat_minor": 2
}
