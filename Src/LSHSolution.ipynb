{
 "cells": [
  {
   "cell_type": "code",
   "execution_count": 1,
   "metadata": {},
   "outputs": [],
   "source": [
    "from operator import itemgetter\n",
    "import pandas as pd\n",
    "from mlxtend.preprocessing import TransactionEncoder\n",
    "from mlxtend.frequent_patterns import apriori\n",
    "from mlxtend.frequent_patterns import association_rules\n",
    "import itertools\n",
    "from itertools import chain, combinations\n",
    "import numpy as np\n",
    "import re\n",
    "from nltk.stem import PorterStemmer \n",
    "from collections import Counter\n",
    "import math\n",
    "from numpy import array\n",
    "from numpy import diag\n",
    "from numpy import zeros\n",
    "from scipy.linalg import svd\n",
    "from sklearn.metrics.pairwise import cosine_similarity\n",
    "from numpy.linalg import inv\n",
    "from sklearn.feature_extraction.text import TfidfVectorizer, CountVectorizer, TfidfTransformer\n",
    "import time\n",
    "from operator import itemgetter\n",
    "from Levenshtein import distance\n",
    "from operator import itemgetter as it\n",
    "from itertools import repeat\n",
    "from datasketch import MinHash, MinHashLSH\n",
    "import time\n",
    "import ast\n",
    "from collections import defaultdict "
   ]
  },
  {
   "cell_type": "code",
   "execution_count": 2,
   "metadata": {},
   "outputs": [],
   "source": [
    "numberOfProfiles= 4"
   ]
  },
  {
   "cell_type": "code",
   "execution_count": 3,
   "metadata": {},
   "outputs": [],
   "source": [
    "recipesFile = \"real_recipe_dataset.json\""
   ]
  },
  {
   "cell_type": "code",
   "execution_count": 4,
   "metadata": {},
   "outputs": [],
   "source": [
    "syntheticDataGrocery = False"
   ]
  },
  {
   "cell_type": "code",
   "execution_count": 5,
   "metadata": {},
   "outputs": [],
   "source": [
    "stopwords =[\"a\", \"about\", \"above\", \"after\", \"again\", \"against\", \"ain\", \"all\", \"am\", \"an\", \"and\", \"any\", \"are\", \"aren\", \"aren't\", \"as\", \"at\", \"be\", \"because\", \"been\", \"before\", \"being\", \"below\", \"between\", \"both\", \"but\", \"by\", \"can\", \"couldn\", \"couldn't\", \"d\", \"did\", \"didn\", \"didn't\", \"do\", \"does\", \"doesn\", \"doesn't\", \"doing\", \"don\", \"don't\", \"down\", \"during\", \"each\", \"few\", \"for\", \"from\", \"further\", \"had\", \"hadn\", \"hadn't\", \"has\", \"hasn\", \"hasn't\", \"have\", \"haven\", \"haven't\", \"having\", \"he\", \"her\", \"here\", \"hers\", \"herself\", \"him\", \"himself\", \"his\", \"how\", \"i\", \"if\", \"in\", \"into\", \"is\", \"isn\", \"isn't\", \"it\", \"it's\", \"its\", \"itself\", \"just\", \"ll\", \"m\", \"ma\", \"me\", \"mightn\", \"mightn't\", \"more\", \"most\", \"mustn\", \"mustn't\", \"my\", \"myself\", \"needn\", \"needn't\", \"no\", \"nor\", \"not\", \"now\", \"o\", \"of\", \"off\", \"on\", \"once\", \"only\", \"or\", \"other\", \"our\", \"ours\", \"ourselves\", \"out\", \"over\", \"own\", \"re\", \"s\", \"same\", \"shan\", \"shan't\", \"she\", \"she's\", \"should\", \"should've\", \"shouldn\", \"shouldn't\", \"so\", \"some\", \"such\", \"t\", \"than\", \"that\", \"that'll\", \"the\", \"their\", \"theirs\", \"them\", \"themselves\", \"then\", \"there\", \"these\", \"they\", \"this\", \"those\", \"through\", \"to\", \"too\", \"under\", \"until\", \"up\", \"ve\", \"very\", \"was\", \"wasn\", \"wasn't\", \"we\", \"were\", \"weren\", \"weren't\", \"what\", \"when\", \"where\", \"which\", \"while\", \"who\", \"whom\", \"why\", \"will\", \"with\", \"won\", \"won't\", \"wouldn\", \"wouldn't\", \"y\", \"you\", \"you'd\", \"you'll\", \"you're\", \"you've\", \"your\", \"yours\", \"yourself\", \"yourselves\", \"could\", \"he'd\", \"he'll\", \"he's\", \"here's\", \"how's\", \"i'd\", \"i'll\", \"i'm\", \"i've\", \"let's\", \"ought\", \"she'd\", \"she'll\", \"that's\", \"there's\", \"they'd\", \"they'll\", \"they're\", \"they've\", \"we'd\", \"we'll\", \"we're\", \"we've\", \"what's\", \"when's\", \"where's\", \"who's\", \"why's\", \"would\"]"
   ]
  },
  {
   "cell_type": "code",
   "execution_count": 6,
   "metadata": {},
   "outputs": [],
   "source": [
    "ps = PorterStemmer()"
   ]
  },
  {
   "cell_type": "code",
   "execution_count": 7,
   "metadata": {},
   "outputs": [],
   "source": [
    "WORDS = {}"
   ]
  },
  {
   "cell_type": "code",
   "execution_count": 8,
   "metadata": {},
   "outputs": [],
   "source": [
    "#GIVEN A BASKET RETURN ALL ITEMS THAT THAT ARE RELATED TO THE GIVEN BASKET BY THE ASSOCIATION RULES\n",
    "#THE ITEMS THAT ARE ALREADY IN THE BASKET WILL NOT BE RETURNED\n",
    "def consequentsPrediction(inputs):\n",
    "    #print(\"ORIGINAL\" + str(inputs))    \n",
    "    consequent_insieme = set()\n",
    "    for left_rule in rules[\"antecedents\"].values :      \n",
    "        if left_rule.issubset(inputs):\n",
    "            froz_set = rules[rules['antecedents'] == left_rule ][\"consequents\"].values\n",
    "            test = set(itertools.chain.from_iterable(froz_set))\n",
    "            for k in test :\n",
    "                consequent_insieme.add(k)\n",
    "    for elem in inputs:\n",
    "        if elem in consequent_insieme:\n",
    "            consequent_insieme.remove(elem)\n",
    "    #print(\"PREDICTED\"+ str(consequent_insieme))\n",
    "    return consequent_insieme"
   ]
  },
  {
   "cell_type": "code",
   "execution_count": 9,
   "metadata": {},
   "outputs": [],
   "source": [
    "#Clean the string x\n",
    "def cleaningString (x):\n",
    "    result = []\n",
    "    for j in x :\n",
    "        j = j.lower()\n",
    "        j = re.sub(r\"[^a-zA-Z]+\",' ',j)\n",
    "        j = j.strip()\n",
    "        result.append(j)\n",
    "    return result"
   ]
  },
  {
   "cell_type": "code",
   "execution_count": 10,
   "metadata": {},
   "outputs": [],
   "source": [
    "def stemming(x):\n",
    "    result = []\n",
    "    for j in x:\n",
    "        temp = j.split()\n",
    "        temp2 = \"\"\n",
    "        for i in temp:\n",
    "            stem = ps.stem(i)\n",
    "            temp2 += stem\n",
    "            temp2 += \" \"\n",
    "        temp2 = temp2.strip()\n",
    "        result.append(temp2)\n",
    "    return result"
   ]
  },
  {
   "cell_type": "code",
   "execution_count": 11,
   "metadata": {},
   "outputs": [],
   "source": [
    "def edits_one(word):\n",
    "    return_set = set()\n",
    "    for w in WORDS:\n",
    "        temp =  distance(word,w)\n",
    "        if (temp<=1):\n",
    "            return_set.add(w)\n",
    "            \n",
    "    return return_set"
   ]
  },
  {
   "cell_type": "code",
   "execution_count": 12,
   "metadata": {},
   "outputs": [],
   "source": [
    "def edits_two(word):\n",
    "    return_set = set()\n",
    "    for w in WORDS:\n",
    "        temp =  distance(word,w)\n",
    "        if (temp<=2):\n",
    "            return_set.add(w)\n",
    "            \n",
    "    return return_set"
   ]
  },
  {
   "cell_type": "code",
   "execution_count": 13,
   "metadata": {},
   "outputs": [],
   "source": [
    "def words(text): return re.findall(r'\\w+', text.lower())"
   ]
  },
  {
   "cell_type": "code",
   "execution_count": 14,
   "metadata": {},
   "outputs": [],
   "source": [
    "def correction(word): \n",
    "    \"Most probable spelling correction for word.\"\n",
    "    result = candidates(word)\n",
    "    if len(result) == 0:\n",
    "        return \"\"\n",
    "    return max(candidates(word), key=P)"
   ]
  },
  {
   "cell_type": "code",
   "execution_count": 15,
   "metadata": {},
   "outputs": [],
   "source": [
    "#Clean the string x\n",
    "def cleaningStringImproved (x):\n",
    "    result = []\n",
    "    for j in x :\n",
    "        j = j.lower()\n",
    "        j = re.sub(r\"[^a-zA-Z]+\",' ',j)\n",
    "        j = j.strip()\n",
    "        result.append(j)\n",
    "    return \" \".join(x).strip().lower()"
   ]
  },
  {
   "cell_type": "code",
   "execution_count": 16,
   "metadata": {},
   "outputs": [],
   "source": [
    "# Function to convert   \n",
    "def listToString(s):  \n",
    "    \n",
    "    # initialize an empty string \n",
    "    str1 = \" \" \n",
    "    \n",
    "    # return string   \n",
    "    return (str1.join(s).strip()) "
   ]
  },
  {
   "cell_type": "code",
   "execution_count": 17,
   "metadata": {},
   "outputs": [],
   "source": [
    "def candidates(word): \n",
    "    \"Generate possible spelling corrections for word.\"\n",
    "    return (known([word]) or edits_one((word)) or edits_two((word)))"
   ]
  },
  {
   "cell_type": "code",
   "execution_count": 18,
   "metadata": {},
   "outputs": [],
   "source": [
    "#Clean the string x\n",
    "def deleteStopwords (x):\n",
    "    result = []\n",
    "    for j in x :\n",
    "        temp = j.split()\n",
    "        temp2 = \"\"\n",
    "        for i in temp:\n",
    "            if i in stopwords:\n",
    "                i = \" \"\n",
    "            elif len(i) <= 2 :\n",
    "                i = \" \"\n",
    "            temp2 += i\n",
    "            temp2 += \" \"\n",
    "        temp2 = temp2.strip()\n",
    "        result.append(temp2)\n",
    "    return result"
   ]
  },
  {
   "cell_type": "code",
   "execution_count": 19,
   "metadata": {},
   "outputs": [],
   "source": [
    "def correctionString(x):\n",
    "    result = []\n",
    "    for j in x:\n",
    "        temp = j.split()\n",
    "        temp2 = \"\"\n",
    "        for i in temp:\n",
    "            correct = correction(i)\n",
    "            temp2 += correct\n",
    "            temp2 += \" \"\n",
    "        temp2 = temp2.strip()\n",
    "        if(temp2 != \"\"):\n",
    "            result.append(temp2)\n",
    "    return result"
   ]
  },
  {
   "cell_type": "code",
   "execution_count": 20,
   "metadata": {},
   "outputs": [],
   "source": [
    "def known(words): \n",
    "    \"The subset of `words` that appear in the dictionary of WORDS.\"\n",
    "    return set(w for w in words if w in WORDS)"
   ]
  },
  {
   "cell_type": "code",
   "execution_count": 21,
   "metadata": {},
   "outputs": [],
   "source": [
    "def basketQuery(b):\n",
    "    global lsh\n",
    "    global lsh2\n",
    "    query = b.split()\n",
    "    m4 = MinHash(num_perm=128)\n",
    "    for d in query:\n",
    "        m4.update(d.encode('utf8'))\n",
    "    result = lsh.query(m4)\n",
    "    if len(result) == 0 :\n",
    "        result = lsh2.query(m4)\n",
    "    if len(result)> 0 :\n",
    "        converted = [(b,recipes_cuisines[int(s)], recipes_collection[int(s)] ,m4.jaccard(minhash[int(s)])) for s in result]\n",
    "        converted.sort(key=itemgetter(3), reverse = True)\n",
    "        result = converted\n",
    "    return result[:10]"
   ]
  },
  {
   "cell_type": "code",
   "execution_count": 22,
   "metadata": {},
   "outputs": [],
   "source": [
    "#STARTING\n",
    "recipes = pd.DataFrame()\n",
    "if syntheticDataGrocery!= True :\n",
    "    groceries = pd.DataFrame()\n",
    "    \n",
    "    groceries = pd.read_csv(\"real_market_basket_dataset.csv\")\n",
    "    \n",
    "    #Drop the columns \"Item(s)\" in groceries and \"id\" in recipes\n",
    "    groceries = groceries.drop(\"Item(s)\", axis = 1)\n",
    "    stripped_nan = []\n",
    "    \n",
    "    for row in range(0, groceries.count()[0]):\n",
    "        string_tmp_1 = pd.Series()\n",
    "    \n",
    "        # build column with single ingredients\n",
    "        string_tmp_1 = groceries.iloc[row, :].dropna()\n",
    "        string_tmp_2 = string_tmp_1.reset_index(drop = True)\n",
    "        string_tmp_3 = list(string_tmp_2.to_numpy())\n",
    "        stripped_nan.append(string_tmp_3)\n",
    "    \n",
    "    groceries = pd.DataFrame(pd.Series(stripped_nan).reset_index()).drop(\"index\",axis=1).set_axis([\"original basket\"], 1, inplace = False)\n",
    "    "
   ]
  },
  {
   "cell_type": "code",
   "execution_count": 23,
   "metadata": {},
   "outputs": [],
   "source": [
    "recipes = pd.read_json(recipesFile) \n",
    "recipes = recipes.drop(\"id\",axis=1)"
   ]
  },
  {
   "cell_type": "code",
   "execution_count": 24,
   "metadata": {},
   "outputs": [],
   "source": [
    "start_time = time.time()"
   ]
  },
  {
   "cell_type": "code",
   "execution_count": 25,
   "metadata": {},
   "outputs": [],
   "source": [
    "lista_prova = [cleaningString(s) for s in recipes[\"ingredients\"]]\n",
    "recipes[\"ingredients\"] = lista_prova"
   ]
  },
  {
   "cell_type": "code",
   "execution_count": 26,
   "metadata": {},
   "outputs": [],
   "source": [
    "lista_prova = [cleaningString(s) for s in groceries[\"original basket\"]]\n",
    "groceries[\"original basket\"] = lista_prova"
   ]
  },
  {
   "cell_type": "code",
   "execution_count": 27,
   "metadata": {},
   "outputs": [],
   "source": [
    "lista_prova = [deleteStopwords(s) for s in recipes[\"ingredients\"]]\n",
    "recipes[\"ingredients\"] = lista_prova"
   ]
  },
  {
   "cell_type": "code",
   "execution_count": 28,
   "metadata": {},
   "outputs": [],
   "source": [
    "lista_prova = [deleteStopwords(s) for s in groceries[\"original basket\"]]\n",
    "groceries[\"original basket\"] = lista_prova"
   ]
  },
  {
   "cell_type": "code",
   "execution_count": 29,
   "metadata": {},
   "outputs": [],
   "source": [
    "temporary = \" \".join(list(itertools.chain.from_iterable(recipes[\"ingredients\"])))"
   ]
  },
  {
   "cell_type": "code",
   "execution_count": 30,
   "metadata": {},
   "outputs": [],
   "source": [
    "WORDS = Counter(words(temporary))"
   ]
  },
  {
   "cell_type": "code",
   "execution_count": 31,
   "metadata": {},
   "outputs": [],
   "source": [
    "#temporary location, need to move this function in the function section\n",
    "def P(word, N=sum(WORDS.values())): \n",
    "    \"Probability of `word`.\"\n",
    "    return WORDS[word] / N"
   ]
  },
  {
   "cell_type": "code",
   "execution_count": 32,
   "metadata": {},
   "outputs": [],
   "source": [
    "lista_prova = [correctionString(s) for s in groceries[\"original basket\"]]\n",
    "groceries[\"original basket\"] = lista_prova"
   ]
  },
  {
   "cell_type": "code",
   "execution_count": 33,
   "metadata": {},
   "outputs": [],
   "source": [
    "#stemming ingredients\n",
    "lista_prova=[]\n",
    "for recipe in recipes[\"ingredients\"]:\n",
    "    lista_prova.append(stemming(recipe))\n",
    "recipes[\"ingredients\"] = lista_prova"
   ]
  },
  {
   "cell_type": "code",
   "execution_count": 34,
   "metadata": {},
   "outputs": [],
   "source": [
    "#stemming groceries\n",
    "lista_prova=[]\n",
    "for grocery in groceries[\"original basket\"] :\n",
    "    lista_prova.append(stemming(grocery))\n",
    "groceries[\"original basket\"] = lista_prova"
   ]
  },
  {
   "cell_type": "code",
   "execution_count": 35,
   "metadata": {},
   "outputs": [],
   "source": [
    "stripped_nan = groceries[\"original basket\"].values"
   ]
  },
  {
   "cell_type": "code",
   "execution_count": 36,
   "metadata": {},
   "outputs": [],
   "source": [
    "te = TransactionEncoder()\n",
    "te_ary = te.fit(stripped_nan).transform(stripped_nan)\n",
    "one_hot_encoded = pd.DataFrame(te_ary, columns = te.columns_)"
   ]
  },
  {
   "cell_type": "code",
   "execution_count": 37,
   "metadata": {},
   "outputs": [],
   "source": [
    "#THE DATA IS READY TO BE APPLIED TO A-PRIORI ALGORITHM. THE MINIMU SUPPORT IS 0.01, THAT IS 1%\n",
    "results_apriori = apriori(one_hot_encoded, min_support=0.01,\n",
    "                          use_colnames=True, verbose = 0)"
   ]
  },
  {
   "cell_type": "code",
   "execution_count": 38,
   "metadata": {},
   "outputs": [],
   "source": [
    "#GET ALL THE ASSOCIATION RULES FROM THE RESULT OF THE A-PRIORI ALGORITHM  WITH CONFIDENCE ABOVE 0.5.\n",
    "rules = association_rules(results_apriori, metric = 'confidence', \n",
    "                                      min_threshold = 0.5)"
   ]
  },
  {
   "cell_type": "code",
   "execution_count": 39,
   "metadata": {},
   "outputs": [],
   "source": [
    "rules[\"interest\"] = rules[\"confidence\"] - rules[\"consequent support\"]"
   ]
  },
  {
   "cell_type": "code",
   "execution_count": 40,
   "metadata": {},
   "outputs": [],
   "source": [
    "rules = rules[ (rules['interest'] >= 0.35) ]"
   ]
  },
  {
   "cell_type": "code",
   "execution_count": 41,
   "metadata": {},
   "outputs": [],
   "source": [
    "items = sorted(\n",
    "    set(itertools.chain.from_iterable(rules[\"antecedents\"].values)))"
   ]
  },
  {
   "cell_type": "code",
   "execution_count": 42,
   "metadata": {},
   "outputs": [],
   "source": [
    "predicted_baskets = []\n",
    "total_baskets = []\n",
    "for i in range(len(groceries[\"original basket\"])):\n",
    "    result = list(consequentsPrediction(groceries[\"original basket\"][i]))\n",
    "    predicted_baskets.append(result)\n",
    "    total_baskets.append(groceries[\"original basket\"][i]+result)"
   ]
  },
  {
   "cell_type": "code",
   "execution_count": 43,
   "metadata": {},
   "outputs": [],
   "source": [
    "groceries[\"association items\"] = pd.Series(predicted_baskets).reset_index().drop(\"index\",1)"
   ]
  },
  {
   "cell_type": "code",
   "execution_count": 44,
   "metadata": {},
   "outputs": [],
   "source": [
    "groceries[\"original basket + association items\"] = pd.Series(total_baskets).reset_index().drop(\"index\",1)"
   ]
  },
  {
   "cell_type": "code",
   "execution_count": 45,
   "metadata": {},
   "outputs": [],
   "source": [
    "lista_prova = [listToString(s) for s in groceries[\"original basket + association items\"]]\n",
    "groceries[\"document basket\"] = lista_prova"
   ]
  },
  {
   "cell_type": "code",
   "execution_count": 46,
   "metadata": {},
   "outputs": [
    {
     "data": {
      "text/html": [
       "<div>\n",
       "<style scoped>\n",
       "    .dataframe tbody tr th:only-of-type {\n",
       "        vertical-align: middle;\n",
       "    }\n",
       "\n",
       "    .dataframe tbody tr th {\n",
       "        vertical-align: top;\n",
       "    }\n",
       "\n",
       "    .dataframe thead th {\n",
       "        text-align: right;\n",
       "    }\n",
       "</style>\n",
       "<table border=\"1\" class=\"dataframe\">\n",
       "  <thead>\n",
       "    <tr style=\"text-align: right;\">\n",
       "      <th></th>\n",
       "      <th>cuisine</th>\n",
       "      <th>ingredients</th>\n",
       "    </tr>\n",
       "  </thead>\n",
       "  <tbody>\n",
       "    <tr>\n",
       "      <th>0</th>\n",
       "      <td>greek</td>\n",
       "      <td>[romain lettuc, black oliv, grape tomato, garl...</td>\n",
       "    </tr>\n",
       "    <tr>\n",
       "      <th>1</th>\n",
       "      <td>southern_us</td>\n",
       "      <td>[plain flour, ground pepper, salt, tomato, gro...</td>\n",
       "    </tr>\n",
       "    <tr>\n",
       "      <th>2</th>\n",
       "      <td>filipino</td>\n",
       "      <td>[egg, pepper, salt, mayonais, cook oil, green ...</td>\n",
       "    </tr>\n",
       "    <tr>\n",
       "      <th>3</th>\n",
       "      <td>indian</td>\n",
       "      <td>[water, veget oil, wheat, salt]</td>\n",
       "    </tr>\n",
       "    <tr>\n",
       "      <th>4</th>\n",
       "      <td>indian</td>\n",
       "      <td>[black pepper, shallot, cornflour, cayenn pepp...</td>\n",
       "    </tr>\n",
       "    <tr>\n",
       "      <th>...</th>\n",
       "      <td>...</td>\n",
       "      <td>...</td>\n",
       "    </tr>\n",
       "    <tr>\n",
       "      <th>39769</th>\n",
       "      <td>irish</td>\n",
       "      <td>[light brown sugar, granul sugar, butter, warm...</td>\n",
       "    </tr>\n",
       "    <tr>\n",
       "      <th>39770</th>\n",
       "      <td>italian</td>\n",
       "      <td>[kraft zesti italian dress, purpl onion, brocc...</td>\n",
       "    </tr>\n",
       "    <tr>\n",
       "      <th>39771</th>\n",
       "      <td>irish</td>\n",
       "      <td>[egg, citru fruit, raisin, sourdough starter, ...</td>\n",
       "    </tr>\n",
       "    <tr>\n",
       "      <th>39772</th>\n",
       "      <td>chinese</td>\n",
       "      <td>[boneless chicken skinless thigh, minc garlic,...</td>\n",
       "    </tr>\n",
       "    <tr>\n",
       "      <th>39773</th>\n",
       "      <td>mexican</td>\n",
       "      <td>[green chile, jalapeno chili, onion, ground bl...</td>\n",
       "    </tr>\n",
       "  </tbody>\n",
       "</table>\n",
       "<p>39774 rows × 2 columns</p>\n",
       "</div>"
      ],
      "text/plain": [
       "           cuisine                                        ingredients\n",
       "0            greek  [romain lettuc, black oliv, grape tomato, garl...\n",
       "1      southern_us  [plain flour, ground pepper, salt, tomato, gro...\n",
       "2         filipino  [egg, pepper, salt, mayonais, cook oil, green ...\n",
       "3           indian                    [water, veget oil, wheat, salt]\n",
       "4           indian  [black pepper, shallot, cornflour, cayenn pepp...\n",
       "...            ...                                                ...\n",
       "39769        irish  [light brown sugar, granul sugar, butter, warm...\n",
       "39770      italian  [kraft zesti italian dress, purpl onion, brocc...\n",
       "39771        irish  [egg, citru fruit, raisin, sourdough starter, ...\n",
       "39772      chinese  [boneless chicken skinless thigh, minc garlic,...\n",
       "39773      mexican  [green chile, jalapeno chili, onion, ground bl...\n",
       "\n",
       "[39774 rows x 2 columns]"
      ]
     },
     "execution_count": 46,
     "metadata": {},
     "output_type": "execute_result"
    }
   ],
   "source": [
    "recipes"
   ]
  },
  {
   "cell_type": "code",
   "execution_count": 47,
   "metadata": {},
   "outputs": [],
   "source": [
    "recipes_collection = []\n",
    "for list_recipe in recipes[\"ingredients\"]:\n",
    "        string = \"\"\n",
    "        string = \", \".join(list_recipe)\n",
    "        string = string.strip()\n",
    "        recipes_collection.append(string)"
   ]
  },
  {
   "cell_type": "code",
   "execution_count": 48,
   "metadata": {},
   "outputs": [],
   "source": [
    "groceries_documents = groceries[\"document basket\"].values.tolist()"
   ]
  },
  {
   "cell_type": "code",
   "execution_count": 49,
   "metadata": {},
   "outputs": [],
   "source": [
    "lista_prova = [listToString(s) for s in recipes[\"ingredients\"]]\n",
    "recipes[\"document recipe\"] = lista_prova"
   ]
  },
  {
   "cell_type": "code",
   "execution_count": 50,
   "metadata": {},
   "outputs": [],
   "source": [
    "recipes_documents = recipes[\"document recipe\"].values.tolist()"
   ]
  },
  {
   "cell_type": "code",
   "execution_count": 51,
   "metadata": {},
   "outputs": [],
   "source": [
    "recipes_cuisines = recipes[\"cuisine\"].values.tolist()"
   ]
  },
  {
   "cell_type": "code",
   "execution_count": 52,
   "metadata": {},
   "outputs": [],
   "source": [
    "minhash = []"
   ]
  },
  {
   "cell_type": "code",
   "execution_count": 53,
   "metadata": {},
   "outputs": [],
   "source": [
    "lsh = MinHashLSH(threshold=0.5, num_perm=128)\n",
    "lsh2 = MinHashLSH(threshold=0.2, num_perm=128)"
   ]
  },
  {
   "cell_type": "code",
   "execution_count": 54,
   "metadata": {},
   "outputs": [],
   "source": [
    "minhash = []\n",
    "index = 0\n",
    "for text in recipes_documents:\n",
    "    tokens = text.split()\n",
    "    m = MinHash(num_perm=128)\n",
    "    for s in tokens:\n",
    "        m.update(s.encode('utf8'))\n",
    "    minhash.append(m)\n",
    "    lsh.insert(str(index), m)\n",
    "    lsh2.insert(str(index), m)\n",
    "    index += 1"
   ]
  },
  {
   "cell_type": "code",
   "execution_count": 55,
   "metadata": {},
   "outputs": [],
   "source": [
    "test = [basketQuery(document) for document in groceries_documents]"
   ]
  },
  {
   "cell_type": "code",
   "execution_count": 56,
   "metadata": {},
   "outputs": [],
   "source": [
    "pd.DataFrame(test).to_csv(\"resultMinHashLSH.csv\", index = False)"
   ]
  },
  {
   "cell_type": "code",
   "execution_count": 57,
   "metadata": {},
   "outputs": [],
   "source": [
    "combined_csv = pd.DataFrame(test)"
   ]
  },
  {
   "cell_type": "code",
   "execution_count": 58,
   "metadata": {},
   "outputs": [],
   "source": [
    "#Input : index of the element, the most N common in the column\n",
    "def customerProfiling(index, index_common):\n",
    "    temp = combined_csv[index].dropna()\n",
    "    out = [recipe for basket,cuisine,recipe,cosine in temp ] \n",
    "    recipes_common = Counter(out)\n",
    "    recipes_looking, value_cos = recipes_common.most_common(40)[index_common]\n",
    "    output = defaultdict(float) \n",
    "    for b, c, r, cos in temp: \n",
    "        output[r] += cos \n",
    "    return [(recipe, cos/value_cos) for recipe,cos in list(output.items()) if recipe == recipes_looking] "
   ]
  },
  {
   "cell_type": "code",
   "execution_count": 59,
   "metadata": {},
   "outputs": [],
   "source": [
    "totalProfiles= []\n",
    "for n in range(numberOfProfiles):\n",
    "    customerProfiles = []\n",
    "    for i in range(4):\n",
    "        result = customerProfiling(i,n)[0]\n",
    "        customerProfiles.append(result)\n",
    "    totalProfiles.append(customerProfiles)"
   ]
  },
  {
   "cell_type": "code",
   "execution_count": 60,
   "metadata": {},
   "outputs": [
    {
     "name": "stdout",
     "output_type": "stream",
     "text": [
      "--- 248.77400422096252 seconds ---\n"
     ]
    }
   ],
   "source": [
    "print(\"--- %s seconds ---\" % (time.time() - start_time))"
   ]
  },
  {
   "cell_type": "code",
   "execution_count": 61,
   "metadata": {},
   "outputs": [],
   "source": [
    "f=open('finalReportMinHashLSH.txt','w')\n",
    "index_write = 1\n",
    "f.write(\"Customer profiling based on cosine similarity score\\n\")\n",
    "f.write(\"Max number of recipes per profile: 4\\n\\n\\n\\n\")\n",
    "for profile in totalProfiles:\n",
    "    index_recipe = 1\n",
    "    f.write(\"Customer Profile \"+ str(index_write))\n",
    "    f.write(\"\\n\")\n",
    "    f.write(\"We have customers who plan to make the following recipes :\\n\")\n",
    "    for elem in profile:\n",
    "        recipe, cosine = elem\n",
    "        f.write(str(index_recipe) + \") \" + recipe + \" (Avg.Score: \"+ str(cosine)+ \")\\n\")\n",
    "        index_recipe+=1\n",
    "    f.write(\"\\n\\n\\n\\n\")\n",
    "    index_write+=1\n",
    "f.close()"
   ]
  },
  {
   "cell_type": "code",
   "execution_count": null,
   "metadata": {},
   "outputs": [],
   "source": []
  }
 ],
 "metadata": {
  "kernelspec": {
   "display_name": "Python 3",
   "language": "python",
   "name": "python3"
  },
  "language_info": {
   "codemirror_mode": {
    "name": "ipython",
    "version": 3
   },
   "file_extension": ".py",
   "mimetype": "text/x-python",
   "name": "python",
   "nbconvert_exporter": "python",
   "pygments_lexer": "ipython3",
   "version": "3.7.5"
  }
 },
 "nbformat": 4,
 "nbformat_minor": 2
}
